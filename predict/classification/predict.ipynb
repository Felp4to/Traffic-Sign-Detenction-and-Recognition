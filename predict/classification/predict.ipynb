{
 "cells": [
  {
   "cell_type": "code",
   "execution_count": 1,
   "id": "initial_id",
   "metadata": {
    "collapsed": true,
    "ExecuteTime": {
     "end_time": "2023-11-29T18:14:44.747580300Z",
     "start_time": "2023-11-29T18:14:34.004980200Z"
    }
   },
   "outputs": [
    {
     "name": "stdout",
     "output_type": "stream",
     "text": [
      "Collecting git+https://github.com/ultralytics/ultralytics.git@mainNote: you may need to restart the kernel to use updated packages.\n",
      "\n",
      "  Cloning https://github.com/ultralytics/ultralytics.git (to revision main) to c:\\users\\paolo\\appdata\\local\\temp\\pip-req-build-luu7sbos\n",
      "  Resolved https://github.com/ultralytics/ultralytics.git to commit 0a1d0033a03ad23c05a982e4d31086fa6af64b41\n",
      "  Preparing metadata (setup.py): started\n",
      "  Preparing metadata (setup.py): finished with status 'done'\n",
      "Requirement already satisfied: matplotlib>=3.3.0 in c:\\users\\paolo\\anaconda3\\envs\\traffic sign detenction and recognition\\lib\\site-packages (from ultralytics==8.0.220) (3.7.2)\n",
      "Requirement already satisfied: numpy>=1.22.2 in c:\\users\\paolo\\anaconda3\\envs\\traffic sign detenction and recognition\\lib\\site-packages (from ultralytics==8.0.220) (1.25.2)\n",
      "Requirement already satisfied: opencv-python>=4.6.0 in c:\\users\\paolo\\anaconda3\\envs\\traffic sign detenction and recognition\\lib\\site-packages (from ultralytics==8.0.220) (4.8.1.78)\n",
      "Requirement already satisfied: pillow>=7.1.2 in c:\\users\\paolo\\anaconda3\\envs\\traffic sign detenction and recognition\\lib\\site-packages (from ultralytics==8.0.220) (9.4.0)\n",
      "Requirement already satisfied: pyyaml>=5.3.1 in c:\\users\\paolo\\anaconda3\\envs\\traffic sign detenction and recognition\\lib\\site-packages (from ultralytics==8.0.220) (6.0.1)\n",
      "Requirement already satisfied: requests>=2.23.0 in c:\\users\\paolo\\anaconda3\\envs\\traffic sign detenction and recognition\\lib\\site-packages (from ultralytics==8.0.220) (2.31.0)\n",
      "Requirement already satisfied: scipy>=1.4.1 in c:\\users\\paolo\\anaconda3\\envs\\traffic sign detenction and recognition\\lib\\site-packages (from ultralytics==8.0.220) (1.11.3)\n",
      "Requirement already satisfied: torch>=1.8.0 in c:\\users\\paolo\\anaconda3\\envs\\traffic sign detenction and recognition\\lib\\site-packages (from ultralytics==8.0.220) (2.1.1)\n",
      "Requirement already satisfied: torchvision>=0.9.0 in c:\\users\\paolo\\anaconda3\\envs\\traffic sign detenction and recognition\\lib\\site-packages (from ultralytics==8.0.220) (0.16.1)\n",
      "Requirement already satisfied: tqdm>=4.64.0 in c:\\users\\paolo\\anaconda3\\envs\\traffic sign detenction and recognition\\lib\\site-packages (from ultralytics==8.0.220) (4.65.0)\n",
      "Requirement already satisfied: pandas>=1.1.4 in c:\\users\\paolo\\anaconda3\\envs\\traffic sign detenction and recognition\\lib\\site-packages (from ultralytics==8.0.220) (2.1.3)\n",
      "Requirement already satisfied: seaborn>=0.11.0 in c:\\users\\paolo\\anaconda3\\envs\\traffic sign detenction and recognition\\lib\\site-packages (from ultralytics==8.0.220) (0.13.0)\n",
      "Requirement already satisfied: psutil in c:\\users\\paolo\\anaconda3\\envs\\traffic sign detenction and recognition\\lib\\site-packages (from ultralytics==8.0.220) (5.9.0)\n",
      "Requirement already satisfied: py-cpuinfo in c:\\users\\paolo\\anaconda3\\envs\\traffic sign detenction and recognition\\lib\\site-packages (from ultralytics==8.0.220) (9.0.0)\n",
      "Requirement already satisfied: thop>=0.1.1 in c:\\users\\paolo\\anaconda3\\envs\\traffic sign detenction and recognition\\lib\\site-packages (from ultralytics==8.0.220) (0.1.1.post2209072238)\n",
      "Requirement already satisfied: contourpy>=1.0.1 in c:\\users\\paolo\\anaconda3\\envs\\traffic sign detenction and recognition\\lib\\site-packages (from matplotlib>=3.3.0->ultralytics==8.0.220) (1.0.5)\n",
      "Requirement already satisfied: cycler>=0.10 in c:\\users\\paolo\\anaconda3\\envs\\traffic sign detenction and recognition\\lib\\site-packages (from matplotlib>=3.3.0->ultralytics==8.0.220) (0.11.0)\n",
      "Requirement already satisfied: fonttools>=4.22.0 in c:\\users\\paolo\\anaconda3\\envs\\traffic sign detenction and recognition\\lib\\site-packages (from matplotlib>=3.3.0->ultralytics==8.0.220) (4.25.0)\n",
      "Requirement already satisfied: kiwisolver>=1.0.1 in c:\\users\\paolo\\anaconda3\\envs\\traffic sign detenction and recognition\\lib\\site-packages (from matplotlib>=3.3.0->ultralytics==8.0.220) (1.4.4)\n",
      "Requirement already satisfied: packaging>=20.0 in c:\\users\\paolo\\anaconda3\\envs\\traffic sign detenction and recognition\\lib\\site-packages (from matplotlib>=3.3.0->ultralytics==8.0.220) (23.1)\n",
      "Requirement already satisfied: pyparsing<3.1,>=2.3.1 in c:\\users\\paolo\\anaconda3\\envs\\traffic sign detenction and recognition\\lib\\site-packages (from matplotlib>=3.3.0->ultralytics==8.0.220) (3.0.9)\n",
      "Requirement already satisfied: python-dateutil>=2.7 in c:\\users\\paolo\\anaconda3\\envs\\traffic sign detenction and recognition\\lib\\site-packages (from matplotlib>=3.3.0->ultralytics==8.0.220) (2.8.2)\n",
      "Requirement already satisfied: pytz>=2020.1 in c:\\users\\paolo\\anaconda3\\envs\\traffic sign detenction and recognition\\lib\\site-packages (from pandas>=1.1.4->ultralytics==8.0.220) (2023.3.post1)\n",
      "Requirement already satisfied: tzdata>=2022.1 in c:\\users\\paolo\\anaconda3\\envs\\traffic sign detenction and recognition\\lib\\site-packages (from pandas>=1.1.4->ultralytics==8.0.220) (2023.3)\n",
      "Requirement already satisfied: charset-normalizer<4,>=2 in c:\\users\\paolo\\anaconda3\\envs\\traffic sign detenction and recognition\\lib\\site-packages (from requests>=2.23.0->ultralytics==8.0.220) (2.0.4)\n",
      "Requirement already satisfied: idna<4,>=2.5 in c:\\users\\paolo\\anaconda3\\envs\\traffic sign detenction and recognition\\lib\\site-packages (from requests>=2.23.0->ultralytics==8.0.220) (3.4)\n",
      "Requirement already satisfied: urllib3<3,>=1.21.1 in c:\\users\\paolo\\anaconda3\\envs\\traffic sign detenction and recognition\\lib\\site-packages (from requests>=2.23.0->ultralytics==8.0.220) (1.26.16)\n",
      "Requirement already satisfied: certifi>=2017.4.17 in c:\\users\\paolo\\anaconda3\\envs\\traffic sign detenction and recognition\\lib\\site-packages (from requests>=2.23.0->ultralytics==8.0.220) (2023.7.22)\n",
      "Requirement already satisfied: filelock in c:\\users\\paolo\\anaconda3\\envs\\traffic sign detenction and recognition\\lib\\site-packages (from torch>=1.8.0->ultralytics==8.0.220) (3.13.1)\n",
      "Requirement already satisfied: typing-extensions in c:\\users\\paolo\\anaconda3\\envs\\traffic sign detenction and recognition\\lib\\site-packages (from torch>=1.8.0->ultralytics==8.0.220) (4.7.1)\n",
      "Requirement already satisfied: sympy in c:\\users\\paolo\\anaconda3\\envs\\traffic sign detenction and recognition\\lib\\site-packages (from torch>=1.8.0->ultralytics==8.0.220) (1.12)\n",
      "Requirement already satisfied: networkx in c:\\users\\paolo\\anaconda3\\envs\\traffic sign detenction and recognition\\lib\\site-packages (from torch>=1.8.0->ultralytics==8.0.220) (3.2.1)\n",
      "Requirement already satisfied: jinja2 in c:\\users\\paolo\\anaconda3\\envs\\traffic sign detenction and recognition\\lib\\site-packages (from torch>=1.8.0->ultralytics==8.0.220) (3.1.2)\n",
      "Requirement already satisfied: fsspec in c:\\users\\paolo\\anaconda3\\envs\\traffic sign detenction and recognition\\lib\\site-packages (from torch>=1.8.0->ultralytics==8.0.220) (2023.10.0)\n",
      "Requirement already satisfied: colorama in c:\\users\\paolo\\anaconda3\\envs\\traffic sign detenction and recognition\\lib\\site-packages (from tqdm>=4.64.0->ultralytics==8.0.220) (0.4.6)\n",
      "Requirement already satisfied: six>=1.5 in c:\\users\\paolo\\anaconda3\\envs\\traffic sign detenction and recognition\\lib\\site-packages (from python-dateutil>=2.7->matplotlib>=3.3.0->ultralytics==8.0.220) (1.16.0)\n",
      "Requirement already satisfied: MarkupSafe>=2.0 in c:\\users\\paolo\\anaconda3\\envs\\traffic sign detenction and recognition\\lib\\site-packages (from jinja2->torch>=1.8.0->ultralytics==8.0.220) (2.1.1)\n",
      "Requirement already satisfied: mpmath>=0.19 in c:\\users\\paolo\\anaconda3\\envs\\traffic sign detenction and recognition\\lib\\site-packages (from sympy->torch>=1.8.0->ultralytics==8.0.220) (1.3.0)\n"
     ]
    },
    {
     "name": "stderr",
     "output_type": "stream",
     "text": [
      "  Running command git clone --filter=blob:none --quiet https://github.com/ultralytics/ultralytics.git 'C:\\Users\\Paolo\\AppData\\Local\\Temp\\pip-req-build-luu7sbos'\n"
     ]
    }
   ],
   "source": [
    "# Ultralytics installation\n",
    "%pip install git+https://github.com/ultralytics/ultralytics.git@main"
   ]
  },
  {
   "cell_type": "code",
   "execution_count": 2,
   "outputs": [
    {
     "name": "stdout",
     "output_type": "stream",
     "text": [
      "Ultralytics YOLOv8.0.220 🚀 Python-3.11.5 torch-2.1.1+cpu CPU (Intel Core(TM) i3-1005G1 1.20GHz)\n",
      "Setup complete ✅ (4 CPUs, 11.8 GB RAM, 297.3/322.3 GB disk)\n"
     ]
    }
   ],
   "source": [
    "import ultralytics\n",
    "ultralytics.checks()"
   ],
   "metadata": {
    "collapsed": false
   },
   "id": "cd4238c1f5c44c59"
  },
  {
   "cell_type": "code",
   "execution_count": 3,
   "outputs": [],
   "source": [
    "\n",
    "from ultralytics import YOLO\n",
    "from PIL import Image"
   ],
   "metadata": {
    "collapsed": false,
    "ExecuteTime": {
     "end_time": "2023-11-29T18:14:53.687236100Z",
     "start_time": "2023-11-29T18:14:53.666101200Z"
    }
   },
   "id": "adc7d0e20bb35fb1"
  },
  {
   "cell_type": "code",
   "execution_count": 4,
   "outputs": [],
   "source": [
    "# Load a pre-trained model\n",
    "model = YOLO('../../models/classification/train_43_classes_split_70_30/weights/best.pt')"
   ],
   "metadata": {
    "collapsed": false,
    "ExecuteTime": {
     "end_time": "2023-11-29T18:14:53.778870500Z",
     "start_time": "2023-11-29T18:14:53.682234900Z"
    }
   },
   "id": "51126adf36706154"
  },
  {
   "cell_type": "code",
   "execution_count": 11,
   "outputs": [
    {
     "name": "stdout",
     "output_type": "stream",
     "text": [
      "image 1/1 C:\\Users\\Paolo\\Desktop\\Datasets\\Dataset senza distrattori - Traffic Sign Classification - CODICE 1\\Test\\10432.png: 640x640 14 1.00, 17 0.00, 7 0.00, 12 0.00, 25 0.00, 107.8ms\n",
      "Speed: 7.0ms preprocess, 107.8ms inference, 0.0ms postprocess per image at shape (1, 3, 640, 640)\n"
     ]
    }
   ],
   "source": [
    "# Predict on an image\n",
    "results = model('C:/Users/Paolo/Desktop/Datasets/Dataset senza distrattori - Traffic Sign Classification - CODICE 1/Test/10432.png')"
   ],
   "metadata": {
    "collapsed": false,
    "ExecuteTime": {
     "end_time": "2023-11-29T18:22:16.820675Z",
     "start_time": "2023-11-29T18:22:16.681197100Z"
    }
   },
   "id": "a9cd90a785e058d4"
  },
  {
   "cell_type": "code",
   "execution_count": 12,
   "outputs": [
    {
     "name": "stdout",
     "output_type": "stream",
     "text": [
      "ultralytics.engine.results.Probs object with attributes:\n",
      "\n",
      "data: tensor([1.4292e-08, 1.5397e-07, 3.1736e-08, 2.1539e-09, 3.5673e-07, 7.2416e-08, 9.9949e-01, 6.7299e-10, 4.9069e-08, 5.0698e-04, 3.8485e-08, 1.0610e-08, 4.6517e-09, 5.8211e-09, 3.2893e-09, 1.2492e-08, 4.1330e-09, 6.3479e-08, 2.2961e-07, 7.8141e-08, 9.1310e-10, 2.5379e-09, 2.6778e-08, 2.0185e-10, 1.3148e-08, 8.7564e-10,\n",
      "        9.6487e-10, 1.3187e-09, 4.4125e-09, 1.5551e-08, 3.5070e-10, 1.0806e-07, 1.6738e-08, 2.0338e-09, 1.2650e-08, 3.8323e-09, 4.5305e-10, 5.7313e-08, 1.2750e-08, 7.2658e-10, 1.3905e-06, 3.7787e-08, 8.3236e-09])\n",
      "orig_shape: None\n",
      "shape: torch.Size([43])\n",
      "top1: 6\n",
      "top1conf: tensor(0.9995)\n",
      "top5: [6, 9, 40, 4, 18]\n",
      "top5conf: tensor([9.9949e-01, 5.0698e-04, 1.3905e-06, 3.5673e-07, 2.2961e-07])\n"
     ]
    }
   ],
   "source": [
    "# View results\n",
    "for r in results:\n",
    "    print(r.probs)  # print the Probs object containing the detected class probabilities"
   ],
   "metadata": {
    "collapsed": false,
    "ExecuteTime": {
     "end_time": "2023-11-29T18:22:17.025640400Z",
     "start_time": "2023-11-29T18:22:16.997986400Z"
    }
   },
   "id": "bfdc7382d78a27d7"
  },
  {
   "cell_type": "code",
   "execution_count": 13,
   "outputs": [],
   "source": [
    "# Show the results\n",
    "for r in results:\n",
    "    im_array = r.plot()  # plot a BGR numpy array of predictions\n",
    "    im = Image.fromarray(im_array[..., ::-1])  # RGB PIL image\n",
    "    im.show()  # show image\n",
    "    im.save('results.jpg')  # save image"
   ],
   "metadata": {
    "collapsed": false,
    "ExecuteTime": {
     "end_time": "2023-11-29T18:22:24.823241800Z",
     "start_time": "2023-11-29T18:22:20.985735400Z"
    }
   },
   "id": "68777685d51e4f3c"
  },
  {
   "cell_type": "code",
   "execution_count": null,
   "outputs": [],
   "source": [],
   "metadata": {
    "collapsed": false
   },
   "id": "825e34684e6a2d11"
  }
 ],
 "metadata": {
  "kernelspec": {
   "display_name": "Python 3",
   "language": "python",
   "name": "python3"
  },
  "language_info": {
   "codemirror_mode": {
    "name": "ipython",
    "version": 2
   },
   "file_extension": ".py",
   "mimetype": "text/x-python",
   "name": "python",
   "nbconvert_exporter": "python",
   "pygments_lexer": "ipython2",
   "version": "2.7.6"
  }
 },
 "nbformat": 4,
 "nbformat_minor": 5
}
