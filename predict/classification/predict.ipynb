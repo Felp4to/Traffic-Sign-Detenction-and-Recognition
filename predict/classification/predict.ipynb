{
 "cells": [
  {
   "cell_type": "code",
   "execution_count": null,
   "id": "initial_id",
   "metadata": {
    "collapsed": true
   },
   "outputs": [],
   "source": [
    "# Ultralytics installation\n",
    "%pip install git+https://github.com/ultralytics/ultralytics.git@main"
   ]
  },
  {
   "cell_type": "code",
   "execution_count": 1,
   "outputs": [
    {
     "name": "stderr",
     "output_type": "stream",
     "text": [
      "Ultralytics YOLOv8.0.210  Python-3.11.5 torch-2.1.1+cpu CPU (Intel Core(TM) i3-1005G1 1.20GHz)\n",
      "Setup complete  (4 CPUs, 11.8 GB RAM, 305.0/322.3 GB disk)\n"
     ]
    }
   ],
   "source": [
    "import ultralytics\n",
    "ultralytics.checks()"
   ],
   "metadata": {
    "collapsed": false
   },
   "id": "cd4238c1f5c44c59"
  },
  {
   "cell_type": "code",
   "execution_count": 2,
   "outputs": [],
   "source": [
    "import cv2\n",
    "from ultralytics import YOLO"
   ],
   "metadata": {
    "collapsed": false,
    "ExecuteTime": {
     "end_time": "2023-11-16T16:50:08.259314200Z",
     "start_time": "2023-11-16T16:50:08.232282600Z"
    }
   },
   "id": "adc7d0e20bb35fb1"
  },
  {
   "cell_type": "code",
   "execution_count": 3,
   "outputs": [],
   "source": [
    "# Load a pre-trained model\n",
    "model = YOLO('../../models/classification/traint_43_classes_split_70_30/weights/best.pt')"
   ],
   "metadata": {
    "collapsed": false,
    "ExecuteTime": {
     "end_time": "2023-11-16T16:50:09.163592700Z",
     "start_time": "2023-11-16T16:50:09.118781600Z"
    }
   },
   "id": "51126adf36706154"
  },
  {
   "cell_type": "code",
   "execution_count": 5,
   "outputs": [
    {
     "name": "stderr",
     "output_type": "stream",
     "text": [
      "\n",
      "image 1/1 C:\\Users\\Paolo\\Desktop\\Datasets\\Dataset senza distrattori - Traffic Sign Classification - CODICE 1\\Test\\00006.png: 640x640 18 1.00, 21 0.00, 24 0.00, 26 0.00, 25 0.00, 159.3ms\n",
      "Speed: 5.8ms preprocess, 159.3ms inference, 0.0ms postprocess per image at shape (1, 3, 640, 640)\n"
     ]
    }
   ],
   "source": [
    "# Predict on an image\n",
    "results = model('C:/Users/Paolo/Desktop/Datasets/Dataset senza distrattori - Traffic Sign Classification - CODICE 1/Test/00006.png')"
   ],
   "metadata": {
    "collapsed": false,
    "ExecuteTime": {
     "end_time": "2023-11-16T16:51:42.136068200Z",
     "start_time": "2023-11-16T16:51:41.936347300Z"
    }
   },
   "id": "a9cd90a785e058d4"
  },
  {
   "cell_type": "code",
   "execution_count": null,
   "outputs": [],
   "source": [],
   "metadata": {
    "collapsed": false
   },
   "id": "68777685d51e4f3c"
  },
  {
   "cell_type": "code",
   "execution_count": null,
   "outputs": [],
   "source": [],
   "metadata": {
    "collapsed": false
   },
   "id": "825e34684e6a2d11"
  }
 ],
 "metadata": {
  "kernelspec": {
   "display_name": "Python 3",
   "language": "python",
   "name": "python3"
  },
  "language_info": {
   "codemirror_mode": {
    "name": "ipython",
    "version": 2
   },
   "file_extension": ".py",
   "mimetype": "text/x-python",
   "name": "python",
   "nbconvert_exporter": "python",
   "pygments_lexer": "ipython2",
   "version": "2.7.6"
  }
 },
 "nbformat": 4,
 "nbformat_minor": 5
}
