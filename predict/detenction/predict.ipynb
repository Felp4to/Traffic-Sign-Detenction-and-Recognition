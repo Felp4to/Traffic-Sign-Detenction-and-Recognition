{
 "cells": [
  {
   "cell_type": "code",
   "execution_count": 15,
   "id": "initial_id",
   "metadata": {
    "collapsed": true,
    "ExecuteTime": {
     "end_time": "2023-11-29T17:46:00.965925400Z",
     "start_time": "2023-11-29T17:45:53.355007900Z"
    }
   },
   "outputs": [
    {
     "name": "stdout",
     "output_type": "stream",
     "text": [
      "Collecting git+https://github.com/ultralytics/ultralytics.git@main\n",
      "  Cloning https://github.com/ultralytics/ultralytics.git (to revision main) to c:\\users\\paolo\\appdata\\local\\temp\\pip-req-build-izhbf0gd\n",
      "  Resolved https://github.com/ultralytics/ultralytics.git to commit 0a1d0033a03ad23c05a982e4d31086fa6af64b41\n",
      "  Preparing metadata (setup.py): started\n",
      "  Preparing metadata (setup.py): finished with status 'done'\n",
      "Requirement already satisfied: matplotlib>=3.3.0 in c:\\users\\paolo\\anaconda3\\envs\\traffic sign detenction and recognition\\lib\\site-packages (from ultralytics==8.0.220) (3.7.2)\n",
      "Requirement already satisfied: numpy>=1.22.2 in c:\\users\\paolo\\anaconda3\\envs\\traffic sign detenction and recognition\\lib\\site-packages (from ultralytics==8.0.220) (1.25.2)\n",
      "Requirement already satisfied: opencv-python>=4.6.0 in c:\\users\\paolo\\anaconda3\\envs\\traffic sign detenction and recognition\\lib\\site-packages (from ultralytics==8.0.220) (4.8.1.78)\n",
      "Requirement already satisfied: pillow>=7.1.2 in c:\\users\\paolo\\anaconda3\\envs\\traffic sign detenction and recognition\\lib\\site-packages (from ultralytics==8.0.220) (9.4.0)\n",
      "Requirement already satisfied: pyyaml>=5.3.1 in c:\\users\\paolo\\anaconda3\\envs\\traffic sign detenction and recognition\\lib\\site-packages (from ultralytics==8.0.220) (6.0.1)\n",
      "Requirement already satisfied: requests>=2.23.0 in c:\\users\\paolo\\anaconda3\\envs\\traffic sign detenction and recognition\\lib\\site-packages (from ultralytics==8.0.220) (2.31.0)\n",
      "Requirement already satisfied: scipy>=1.4.1 in c:\\users\\paolo\\anaconda3\\envs\\traffic sign detenction and recognition\\lib\\site-packages (from ultralytics==8.0.220) (1.11.3)\n",
      "Requirement already satisfied: torch>=1.8.0 in c:\\users\\paolo\\anaconda3\\envs\\traffic sign detenction and recognition\\lib\\site-packages (from ultralytics==8.0.220) (2.1.1)\n",
      "Requirement already satisfied: torchvision>=0.9.0 in c:\\users\\paolo\\anaconda3\\envs\\traffic sign detenction and recognition\\lib\\site-packages (from ultralytics==8.0.220) (0.16.1)\n",
      "Requirement already satisfied: tqdm>=4.64.0 in c:\\users\\paolo\\anaconda3\\envs\\traffic sign detenction and recognition\\lib\\site-packages (from ultralytics==8.0.220) (4.65.0)\n",
      "Requirement already satisfied: pandas>=1.1.4 in c:\\users\\paolo\\anaconda3\\envs\\traffic sign detenction and recognition\\lib\\site-packages (from ultralytics==8.0.220) (2.1.3)\n",
      "Requirement already satisfied: seaborn>=0.11.0 in c:\\users\\paolo\\anaconda3\\envs\\traffic sign detenction and recognition\\lib\\site-packages (from ultralytics==8.0.220) (0.13.0)\n",
      "Requirement already satisfied: psutil in c:\\users\\paolo\\anaconda3\\envs\\traffic sign detenction and recognition\\lib\\site-packages (from ultralytics==8.0.220) (5.9.0)\n",
      "Requirement already satisfied: py-cpuinfo in c:\\users\\paolo\\anaconda3\\envs\\traffic sign detenction and recognition\\lib\\site-packages (from ultralytics==8.0.220) (9.0.0)\n",
      "Requirement already satisfied: thop>=0.1.1 in c:\\users\\paolo\\anaconda3\\envs\\traffic sign detenction and recognition\\lib\\site-packages (from ultralytics==8.0.220) (0.1.1.post2209072238)\n",
      "Requirement already satisfied: contourpy>=1.0.1 in c:\\users\\paolo\\anaconda3\\envs\\traffic sign detenction and recognition\\lib\\site-packages (from matplotlib>=3.3.0->ultralytics==8.0.220) (1.0.5)\n",
      "Requirement already satisfied: cycler>=0.10 in c:\\users\\paolo\\anaconda3\\envs\\traffic sign detenction and recognition\\lib\\site-packages (from matplotlib>=3.3.0->ultralytics==8.0.220) (0.11.0)\n",
      "Requirement already satisfied: fonttools>=4.22.0 in c:\\users\\paolo\\anaconda3\\envs\\traffic sign detenction and recognition\\lib\\site-packages (from matplotlib>=3.3.0->ultralytics==8.0.220) (4.25.0)\n",
      "Requirement already satisfied: kiwisolver>=1.0.1 in c:\\users\\paolo\\anaconda3\\envs\\traffic sign detenction and recognition\\lib\\site-packages (from matplotlib>=3.3.0->ultralytics==8.0.220) (1.4.4)\n",
      "Requirement already satisfied: packaging>=20.0 in c:\\users\\paolo\\anaconda3\\envs\\traffic sign detenction and recognition\\lib\\site-packages (from matplotlib>=3.3.0->ultralytics==8.0.220) (23.1)\n",
      "Requirement already satisfied: pyparsing<3.1,>=2.3.1 in c:\\users\\paolo\\anaconda3\\envs\\traffic sign detenction and recognition\\lib\\site-packages (from matplotlib>=3.3.0->ultralytics==8.0.220) (3.0.9)\n",
      "Requirement already satisfied: python-dateutil>=2.7 in c:\\users\\paolo\\anaconda3\\envs\\traffic sign detenction and recognition\\lib\\site-packages (from matplotlib>=3.3.0->ultralytics==8.0.220) (2.8.2)\n",
      "Requirement already satisfied: pytz>=2020.1 in c:\\users\\paolo\\anaconda3\\envs\\traffic sign detenction and recognition\\lib\\site-packages (from pandas>=1.1.4->ultralytics==8.0.220) (2023.3.post1)\n",
      "Requirement already satisfied: tzdata>=2022.1 in c:\\users\\paolo\\anaconda3\\envs\\traffic sign detenction and recognition\\lib\\site-packages (from pandas>=1.1.4->ultralytics==8.0.220) (2023.3)\n",
      "Requirement already satisfied: charset-normalizer<4,>=2 in c:\\users\\paolo\\anaconda3\\envs\\traffic sign detenction and recognition\\lib\\site-packages (from requests>=2.23.0->ultralytics==8.0.220) (2.0.4)\n",
      "Requirement already satisfied: idna<4,>=2.5 in c:\\users\\paolo\\anaconda3\\envs\\traffic sign detenction and recognition\\lib\\site-packages (from requests>=2.23.0->ultralytics==8.0.220) (3.4)\n",
      "Requirement already satisfied: urllib3<3,>=1.21.1 in c:\\users\\paolo\\anaconda3\\envs\\traffic sign detenction and recognition\\lib\\site-packages (from requests>=2.23.0->ultralytics==8.0.220) (1.26.16)\n",
      "Requirement already satisfied: certifi>=2017.4.17 in c:\\users\\paolo\\anaconda3\\envs\\traffic sign detenction and recognition\\lib\\site-packages (from requests>=2.23.0->ultralytics==8.0.220) (2023.7.22)\n",
      "Requirement already satisfied: filelock in c:\\users\\paolo\\anaconda3\\envs\\traffic sign detenction and recognition\\lib\\site-packages (from torch>=1.8.0->ultralytics==8.0.220) (3.13.1)\n",
      "Requirement already satisfied: typing-extensions in c:\\users\\paolo\\anaconda3\\envs\\traffic sign detenction and recognition\\lib\\site-packages (from torch>=1.8.0->ultralytics==8.0.220) (4.7.1)\n",
      "Requirement already satisfied: sympy in c:\\users\\paolo\\anaconda3\\envs\\traffic sign detenction and recognition\\lib\\site-packages (from torch>=1.8.0->ultralytics==8.0.220) (1.12)\n",
      "Requirement already satisfied: networkx in c:\\users\\paolo\\anaconda3\\envs\\traffic sign detenction and recognition\\lib\\site-packages (from torch>=1.8.0->ultralytics==8.0.220) (3.2.1)\n",
      "Requirement already satisfied: jinja2 in c:\\users\\paolo\\anaconda3\\envs\\traffic sign detenction and recognition\\lib\\site-packages (from torch>=1.8.0->ultralytics==8.0.220) (3.1.2)\n",
      "Requirement already satisfied: fsspec in c:\\users\\paolo\\anaconda3\\envs\\traffic sign detenction and recognition\\lib\\site-packages (from torch>=1.8.0->ultralytics==8.0.220) (2023.10.0)\n",
      "Requirement already satisfied: colorama in c:\\users\\paolo\\anaconda3\\envs\\traffic sign detenction and recognition\\lib\\site-packages (from tqdm>=4.64.0->ultralytics==8.0.220) (0.4.6)\n",
      "Requirement already satisfied: six>=1.5 in c:\\users\\paolo\\anaconda3\\envs\\traffic sign detenction and recognition\\lib\\site-packages (from python-dateutil>=2.7->matplotlib>=3.3.0->ultralytics==8.0.220) (1.16.0)\n",
      "Requirement already satisfied: MarkupSafe>=2.0 in c:\\users\\paolo\\anaconda3\\envs\\traffic sign detenction and recognition\\lib\\site-packages (from jinja2->torch>=1.8.0->ultralytics==8.0.220) (2.1.1)\n",
      "Requirement already satisfied: mpmath>=0.19 in c:\\users\\paolo\\anaconda3\\envs\\traffic sign detenction and recognition\\lib\\site-packages (from sympy->torch>=1.8.0->ultralytics==8.0.220) (1.3.0)\n",
      "Note: you may need to restart the kernel to use updated packages.\n"
     ]
    },
    {
     "name": "stderr",
     "output_type": "stream",
     "text": [
      "  Running command git clone --filter=blob:none --quiet https://github.com/ultralytics/ultralytics.git 'C:\\Users\\Paolo\\AppData\\Local\\Temp\\pip-req-build-izhbf0gd'\n"
     ]
    }
   ],
   "source": [
    "# Ultralytics installation\n",
    "%pip install git+https://github.com/ultralytics/ultralytics.git@main"
   ]
  },
  {
   "cell_type": "code",
   "execution_count": 16,
   "outputs": [
    {
     "name": "stdout",
     "output_type": "stream",
     "text": [
      "Requirement already satisfied: opencv-python in c:\\users\\paolo\\anaconda3\\envs\\traffic sign detenction and recognition\\lib\\site-packages (4.8.1.78)Note: you may need to restart the kernel to use updated packages.\n",
      "\n",
      "Requirement already satisfied: numpy>=1.21.2 in c:\\users\\paolo\\anaconda3\\envs\\traffic sign detenction and recognition\\lib\\site-packages (from opencv-python) (1.25.2)\n"
     ]
    }
   ],
   "source": [
    "%pip install opencv-python"
   ],
   "metadata": {
    "collapsed": false,
    "ExecuteTime": {
     "end_time": "2023-11-29T17:46:03.909341900Z",
     "start_time": "2023-11-29T17:46:00.971927200Z"
    }
   },
   "id": "4a6df96112f5ed92"
  },
  {
   "cell_type": "code",
   "execution_count": 17,
   "outputs": [
    {
     "name": "stdout",
     "output_type": "stream",
     "text": [
      "Ultralytics YOLOv8.0.220 🚀 Python-3.11.5 torch-2.1.1+cpu CPU (Intel Core(TM) i3-1005G1 1.20GHz)\n",
      "Setup complete ✅ (4 CPUs, 11.8 GB RAM, 296.3/322.3 GB disk)\n"
     ]
    }
   ],
   "source": [
    "import ultralytics\n",
    "ultralytics.checks()"
   ],
   "metadata": {
    "collapsed": false
   },
   "id": "cd4238c1f5c44c59"
  },
  {
   "cell_type": "code",
   "execution_count": 18,
   "outputs": [],
   "source": [
    "from ultralytics import YOLO\n",
    "import cv2"
   ],
   "metadata": {
    "collapsed": false,
    "ExecuteTime": {
     "end_time": "2023-11-29T17:46:05.868666400Z",
     "start_time": "2023-11-29T17:46:05.858151600Z"
    }
   },
   "id": "adc7d0e20bb35fb1"
  },
  {
   "cell_type": "code",
   "execution_count": 19,
   "outputs": [],
   "source": [
    "# Load a pre-trained model\n",
    "model = YOLO('../../models/detenction/train_7_classes_split_70_15_15/weights/best.pt')"
   ],
   "metadata": {
    "collapsed": false,
    "ExecuteTime": {
     "end_time": "2023-11-29T17:46:06.170411200Z",
     "start_time": "2023-11-29T17:46:05.892557200Z"
    }
   },
   "id": "51126adf36706154"
  },
  {
   "cell_type": "code",
   "execution_count": 22,
   "outputs": [
    {
     "name": "stdout",
     "output_type": "stream",
     "text": [
      "image 1/1 C:\\Users\\Paolo\\Desktop\\Datasets\\Dataset con distrattori - Traffic Sign Detenction - CODICE 2 - (16.000 immagini)\\JPEGImages\\0000041.jpg: 576x1024 1 danger, 652.4ms\n",
      "Speed: 10.7ms preprocess, 652.4ms inference, 1.0ms postprocess per image at shape (1, 3, 576, 1024)\n"
     ]
    }
   ],
   "source": [
    "# Predict on an image\n",
    "results = model('C:/Users/Paolo/Desktop/Datasets/Dataset con distrattori - Traffic Sign Detenction - CODICE 2 - (16.000 immagini)/JPEGImages/0000041.jpg')"
   ],
   "metadata": {
    "collapsed": false,
    "ExecuteTime": {
     "end_time": "2023-11-29T17:47:34.552007800Z",
     "start_time": "2023-11-29T17:47:33.798446300Z"
    }
   },
   "id": "a9cd90a785e058d4"
  },
  {
   "cell_type": "code",
   "execution_count": 23,
   "outputs": [
    {
     "name": "stdout",
     "output_type": "stream",
     "text": [
      "Object type: danger\n",
      "Object name: danger\n",
      "Coordinates: [1355, 219, 1599, 464]\n",
      "Probability: 0.92\n",
      "---\n"
     ]
    }
   ],
   "source": [
    "for result in results:\n",
    "    boxes = result.boxes  # Boxes object for bbox outputs\n",
    "    masks = result.masks  # Masks object for segmenation masks outputs\n",
    "    probs = result.probs  # Class probabilities\n",
    "\n",
    "    for box in result.boxes:\n",
    "        class_id = result.names[box.cls[0].item()]\n",
    "        cords = box.xyxy[0].tolist()\n",
    "        cords = [round(x) for x in cords]\n",
    "        conf = round(box.conf[0].item(), 2)\n",
    "        class_name = result.names[box.cls[0].item()]\n",
    "        print(\"Object type:\", class_id)\n",
    "        print(\"Object name:\", class_name)\n",
    "        print(\"Coordinates:\", cords)\n",
    "        print(\"Probability:\", conf)\n",
    "        print(\"---\")\n",
    "    res_plotted = result.plot()\n",
    "    cv2.imshow('Result', res_plotted)\n",
    "    # Wait for the user to press a key\n",
    "    cv2.waitKey(0)\n",
    "    # Close all windows\n",
    "    cv2.destroyAllWindows()\n",
    "    #print(boxes)\n",
    "    #print(masks)\n",
    "    #print(probs)"
   ],
   "metadata": {
    "collapsed": false,
    "ExecuteTime": {
     "end_time": "2023-11-29T18:04:05.106756500Z",
     "start_time": "2023-11-29T17:47:34.558311600Z"
    }
   },
   "id": "68777685d51e4f3c"
  },
  {
   "cell_type": "code",
   "execution_count": 21,
   "outputs": [],
   "source": [],
   "metadata": {
    "collapsed": false,
    "ExecuteTime": {
     "end_time": "2023-11-29T17:47:33.780265600Z",
     "start_time": "2023-11-29T17:47:33.768858800Z"
    }
   },
   "id": "825e34684e6a2d11"
  },
  {
   "cell_type": "code",
   "execution_count": 21,
   "outputs": [],
   "source": [],
   "metadata": {
    "collapsed": false,
    "ExecuteTime": {
     "end_time": "2023-11-29T17:47:33.788267300Z",
     "start_time": "2023-11-29T17:47:33.778268800Z"
    }
   },
   "id": "d71d3d3abc46579"
  }
 ],
 "metadata": {
  "kernelspec": {
   "display_name": "Python 3",
   "language": "python",
   "name": "python3"
  },
  "language_info": {
   "codemirror_mode": {
    "name": "ipython",
    "version": 2
   },
   "file_extension": ".py",
   "mimetype": "text/x-python",
   "name": "python",
   "nbconvert_exporter": "python",
   "pygments_lexer": "ipython2",
   "version": "2.7.6"
  }
 },
 "nbformat": 4,
 "nbformat_minor": 5
}
