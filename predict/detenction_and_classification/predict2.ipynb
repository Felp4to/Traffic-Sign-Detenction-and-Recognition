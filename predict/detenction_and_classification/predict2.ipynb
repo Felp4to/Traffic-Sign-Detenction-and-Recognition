{
 "cells": [
  {
   "cell_type": "code",
   "execution_count": 1,
   "id": "initial_id",
   "metadata": {
    "collapsed": true,
    "ExecuteTime": {
     "end_time": "2023-11-29T17:35:17.609674400Z",
     "start_time": "2023-11-29T17:35:09.908390400Z"
    }
   },
   "outputs": [
    {
     "name": "stdout",
     "output_type": "stream",
     "text": [
      "Note: you may need to restart the kernel to use updated packages.\n"
     ]
    }
   ],
   "source": [
    "%pip install -q git+https://github.com/ultralytics/ultralytics.git@main"
   ]
  },
  {
   "cell_type": "code",
   "execution_count": 2,
   "outputs": [
    {
     "name": "stdout",
     "output_type": "stream",
     "text": [
      "Ultralytics YOLOv8.0.220 🚀 Python-3.11.5 torch-2.1.1+cpu CPU (Intel Core(TM) i3-1005G1 1.20GHz)\n",
      "Setup complete ✅ (4 CPUs, 11.8 GB RAM, 296.3/322.3 GB disk)\n"
     ]
    }
   ],
   "source": [
    "import dataset as ds\n",
    "import ultralytics\n",
    "ultralytics.checks()"
   ],
   "metadata": {
    "collapsed": false
   },
   "id": "f0c215bf7e76975"
  },
  {
   "cell_type": "code",
   "execution_count": 3,
   "outputs": [],
   "source": [
    "ds.read_config_file()"
   ],
   "metadata": {
    "collapsed": false,
    "ExecuteTime": {
     "end_time": "2023-11-29T17:35:23.885720300Z",
     "start_time": "2023-11-29T17:35:23.864483400Z"
    }
   },
   "id": "e252196cd5dae4c3"
  },
  {
   "cell_type": "code",
   "execution_count": 4,
   "outputs": [],
   "source": [
    "ds.load_models()"
   ],
   "metadata": {
    "collapsed": false,
    "ExecuteTime": {
     "end_time": "2023-11-29T17:35:24.081785900Z",
     "start_time": "2023-11-29T17:35:23.888719300Z"
    }
   },
   "id": "dda970d319299d31"
  },
  {
   "cell_type": "code",
   "execution_count": 5,
   "outputs": [],
   "source": [
    "path = 'C:/Users/Paolo/Desktop/Datasets/Dataset con distrattori - Traffic Sign Detenction - CODICE 2 - (16.000 immagini)/JPEGImages/0000054.jpg'"
   ],
   "metadata": {
    "collapsed": false,
    "ExecuteTime": {
     "end_time": "2023-11-29T17:35:24.095489500Z",
     "start_time": "2023-11-29T17:35:24.085968300Z"
    }
   },
   "id": "ed6b259340b1289b"
  },
  {
   "cell_type": "code",
   "execution_count": 6,
   "outputs": [],
   "source": [
    "predictions = []\n",
    "\n",
    "results = ds.model_detenct(path, conf=0.05, imgsz=1024, verbose=False)\n",
    "\n",
    "for result in results:\n",
    "    boxes = result.boxes  # Boxes object for bbox outputs\n",
    "    masks = result.masks  # Masks object for segmenation masks outputs\n",
    "    probs = result.probs  # Class probabilities\n",
    "    # Iterations on each prediction\n",
    "    for box in result.boxes:\n",
    "        superclass_id = int(box.cls[0].item())\n",
    "        superclass_name = result.names[box.cls[0].item()]\n",
    "        cords = [round(x) for x in box.xyxy[0].tolist()]\n",
    "        conf_detect = round(box.conf[0].item(), 2)\n",
    "        crop_predict = ds.crop_image(path, cords)\n",
    "        crop_predict.show()\n",
    "        results2 = ds.model_classify(ds.crop_image(path, cords), conf=0.7, verbose=False)\n",
    "        key = results2[0].probs.top1\n",
    "        conf_classify = results2[0].probs.top1conf\n",
    "        conf_classify = conf_classify.item()\n",
    "        class_id = results2[0].names[key]\n",
    "        classname = ds.classes[int(class_id)]\n",
    "        prediction = (superclass_id, superclass_name, cords, conf_detect, class_id, classname, conf_classify, crop_predict)\n",
    "        # print_prediction(prediction)\n",
    "        predictions.append(prediction)"
   ],
   "metadata": {
    "collapsed": false,
    "ExecuteTime": {
     "end_time": "2023-11-29T17:35:32.330939Z",
     "start_time": "2023-11-29T17:35:24.098500500Z"
    }
   },
   "id": "3dfc283882913dd"
  },
  {
   "cell_type": "code",
   "execution_count": 7,
   "outputs": [
    {
     "data": {
      "text/plain": "[(1,\n  'danger',\n  [1296, 195, 1563, 461],\n  0.92,\n  '23',\n  'slippery road (danger)',\n  0.49601954221725464,\n  <PIL.Image.Image image mode=RGB size=267x266>)]"
     },
     "metadata": {},
     "output_type": "display_data"
    }
   ],
   "source": [
    "display(predictions)"
   ],
   "metadata": {
    "collapsed": false,
    "ExecuteTime": {
     "end_time": "2023-11-29T17:35:32.352230500Z",
     "start_time": "2023-11-29T17:35:32.332934900Z"
    }
   },
   "id": "9dcabe9588d01c3d"
  },
  {
   "cell_type": "code",
   "execution_count": null,
   "outputs": [],
   "source": [],
   "metadata": {
    "collapsed": false
   },
   "id": "acb7e396e3be9493"
  },
  {
   "cell_type": "code",
   "execution_count": null,
   "outputs": [],
   "source": [],
   "metadata": {
    "collapsed": false
   },
   "id": "c3932b297c98b480"
  },
  {
   "cell_type": "code",
   "execution_count": null,
   "outputs": [],
   "source": [],
   "metadata": {
    "collapsed": false
   },
   "id": "2aded4af94d0a0f2"
  }
 ],
 "metadata": {
  "kernelspec": {
   "display_name": "Python 3",
   "language": "python",
   "name": "python3"
  },
  "language_info": {
   "codemirror_mode": {
    "name": "ipython",
    "version": 2
   },
   "file_extension": ".py",
   "mimetype": "text/x-python",
   "name": "python",
   "nbconvert_exporter": "python",
   "pygments_lexer": "ipython2",
   "version": "2.7.6"
  }
 },
 "nbformat": 4,
 "nbformat_minor": 5
}
