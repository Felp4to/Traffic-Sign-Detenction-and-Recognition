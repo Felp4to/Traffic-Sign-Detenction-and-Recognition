{
 "cells": [
  {
   "cell_type": "code",
   "execution_count": 1,
   "outputs": [
    {
     "name": "stdout",
     "output_type": "stream",
     "text": [
      "Note: you may need to restart the kernel to use updated packages.\n"
     ]
    }
   ],
   "source": [
    "# Ultralytics installation\n",
    "%pip install -q git+https://github.com/ultralytics/ultralytics.git@main"
   ],
   "metadata": {
    "collapsed": false,
    "ExecuteTime": {
     "end_time": "2023-11-26T11:51:40.632743Z",
     "start_time": "2023-11-26T11:51:27.809874900Z"
    }
   },
   "id": "initial_id"
  },
  {
   "cell_type": "code",
   "execution_count": 2,
   "outputs": [
    {
     "name": "stdout",
     "output_type": "stream",
     "text": [
      "Requirement already satisfied: pandas in c:\\users\\paolo\\anaconda3\\envs\\traffic sign detenction and recognition\\lib\\site-packages (2.1.3)\n",
      "Requirement already satisfied: numpy<2,>=1.23.2 in c:\\users\\paolo\\anaconda3\\envs\\traffic sign detenction and recognition\\lib\\site-packages (from pandas) (1.25.2)\n",
      "Requirement already satisfied: python-dateutil>=2.8.2 in c:\\users\\paolo\\anaconda3\\envs\\traffic sign detenction and recognition\\lib\\site-packages (from pandas) (2.8.2)\n",
      "Requirement already satisfied: pytz>=2020.1 in c:\\users\\paolo\\anaconda3\\envs\\traffic sign detenction and recognition\\lib\\site-packages (from pandas) (2023.3.post1)\n",
      "Requirement already satisfied: tzdata>=2022.1 in c:\\users\\paolo\\anaconda3\\envs\\traffic sign detenction and recognition\\lib\\site-packages (from pandas) (2023.3)\n",
      "Requirement already satisfied: six>=1.5 in c:\\users\\paolo\\anaconda3\\envs\\traffic sign detenction and recognition\\lib\\site-packages (from python-dateutil>=2.8.2->pandas) (1.16.0)\n",
      "Note: you may need to restart the kernel to use updated packages.\n"
     ]
    }
   ],
   "source": [
    "%pip install --upgrade pandas"
   ],
   "metadata": {
    "collapsed": false,
    "ExecuteTime": {
     "end_time": "2023-11-26T11:51:44.387296900Z",
     "start_time": "2023-11-26T11:51:40.634748400Z"
    }
   },
   "id": "16242b00bbbeac6c"
  },
  {
   "cell_type": "code",
   "execution_count": 3,
   "outputs": [
    {
     "name": "stdout",
     "output_type": "stream",
     "text": [
      "Ultralytics YOLOv8.0.218 🚀 Python-3.11.5 torch-2.1.1+cpu CPU (Intel Core(TM) i3-1005G1 1.20GHz)\n",
      "Setup complete ✅ (4 CPUs, 11.8 GB RAM, 294.6/322.3 GB disk)\n"
     ]
    }
   ],
   "source": [
    "import dataset as ds\n",
    "import ultralytics\n",
    "ultralytics.checks()"
   ],
   "metadata": {
    "collapsed": false
   },
   "id": "20ab2784f81ae5db"
  },
  {
   "cell_type": "code",
   "execution_count": 4,
   "outputs": [],
   "source": [
    "ds.load_models()"
   ],
   "metadata": {
    "collapsed": false,
    "ExecuteTime": {
     "end_time": "2023-11-26T11:52:00.959210800Z",
     "start_time": "2023-11-26T11:52:00.628000100Z"
    }
   },
   "id": "e2a510a40349cbb8"
  },
  {
   "cell_type": "code",
   "execution_count": 5,
   "outputs": [],
   "source": [
    "# ds.print_filenames()"
   ],
   "metadata": {
    "collapsed": false,
    "ExecuteTime": {
     "end_time": "2023-11-26T11:52:00.985254100Z",
     "start_time": "2023-11-26T11:52:00.960210800Z"
    }
   },
   "id": "db839e0d051e79ce"
  },
  {
   "cell_type": "code",
   "execution_count": 6,
   "outputs": [],
   "source": [
    "# df = ds.generate_dataframe_for_file(file2)\n",
    "# display(df)"
   ],
   "metadata": {
    "collapsed": false,
    "ExecuteTime": {
     "end_time": "2023-11-26T11:52:01.018849300Z",
     "start_time": "2023-11-26T11:52:00.971886600Z"
    }
   },
   "id": "e76ebe91b59155a"
  },
  {
   "cell_type": "code",
   "execution_count": 7,
   "outputs": [
    {
     "name": "stdout",
     "output_type": "stream",
     "text": [
      "['00003', '00004', '00011', '00017', '00018', '00022', '00023', '00031', '00033', '00034', '00035', '00049', '00052', '00059', '00060', '00065', '00073', '00078', '00081', '00087', '00091', '00096', '00104', '00107', '00111', '00126', '00133', '00137', '00150', '00152', '00154', '00157', '00161', '00168', '00171', '00176', '00195', '00196', '00206', '00207', '00218', '00227', '00228', '00232', '00243', '00259', '00267', '00273', '00284', '00285', '00293', '00305', '00306', '00307', '00340', '00346', '00350', '00362', '00377', '00378', '00384', '00400', '00401', '00411', '00422', '00425', '00427', '00440', '00461', '00477', '00480', '00484', '00487', '00499', '00507', '00518', '00524', '00531', '00571', '00599', '00604', '00611', '00628', '00637', '00648', '00682', '00683', '00685', '00699', '00700', '00706', '00707', '00714', '00716', '00720', '00728', '00760', '00780', '00782', '00817', '00824', '00828', '00831', '00842', '00855', '00860', '00876', '00884', '00893', '00897', '00899']\n"
     ]
    }
   ],
   "source": [
    "print(ds.init_list())"
   ],
   "metadata": {
    "collapsed": false,
    "ExecuteTime": {
     "end_time": "2023-11-26T11:52:01.049410500Z",
     "start_time": "2023-11-26T11:52:00.985254100Z"
    }
   },
   "id": "80bf400d6ba7aa3c"
  },
  {
   "cell_type": "code",
   "execution_count": 8,
   "outputs": [
    {
     "name": "stderr",
     "output_type": "stream",
     "text": [
      "Predictions:   2%|▏         | 2/111 [00:24<20:42, 11.40s/it]C:\\Users\\Paolo\\Desktop\\Traffic Sign Detenction and Recognition\\predict\\detenction_and_classification\\dataset.py:173: FutureWarning: The behavior of DataFrame concatenation with empty or all-NA entries is deprecated. In a future version, this will no longer exclude empty or all-NA columns when determining the result dtypes. To retain the old behavior, exclude the relevant entries before the concat operation.\n",
      "  df.loc[len(df)] = new_row\n",
      "Predictions:   5%|▌         | 6/111 [00:52<15:11,  8.69s/it]\n"
     ]
    },
    {
     "ename": "KeyboardInterrupt",
     "evalue": "",
     "output_type": "error",
     "traceback": [
      "\u001B[1;31m---------------------------------------------------------------------------\u001B[0m",
      "\u001B[1;31mKeyboardInterrupt\u001B[0m                         Traceback (most recent call last)",
      "Cell \u001B[1;32mIn[8], line 1\u001B[0m\n\u001B[1;32m----> 1\u001B[0m df \u001B[38;5;241m=\u001B[39m ds\u001B[38;5;241m.\u001B[39mgenerate_dataframe(ds\u001B[38;5;241m.\u001B[39minit_list())\n\u001B[0;32m      2\u001B[0m df\u001B[38;5;241m.\u001B[39mto_csv(\u001B[38;5;124m'\u001B[39m\u001B[38;5;124mC:/Users/Paolo/Desktop/results.csv\u001B[39m\u001B[38;5;124m'\u001B[39m, index\u001B[38;5;241m=\u001B[39m\u001B[38;5;28;01mFalse\u001B[39;00m)\n",
      "File \u001B[1;32m~\\Desktop\\Traffic Sign Detenction and Recognition\\predict\\detenction_and_classification\\dataset.py:127\u001B[0m, in \u001B[0;36mgenerate_dataframe\u001B[1;34m(files)\u001B[0m\n\u001B[0;32m    125\u001B[0m \u001B[38;5;28;01mfor\u001B[39;00m file \u001B[38;5;129;01min\u001B[39;00m files:\n\u001B[0;32m    126\u001B[0m     df \u001B[38;5;241m=\u001B[39m pd\u001B[38;5;241m.\u001B[39mDataFrame(columns\u001B[38;5;241m=\u001B[39mcolumns)\n\u001B[1;32m--> 127\u001B[0m     df \u001B[38;5;241m=\u001B[39m generate_dataframe_for_file(file)\n\u001B[0;32m    128\u001B[0m     df_total \u001B[38;5;241m=\u001B[39m pd\u001B[38;5;241m.\u001B[39mconcat([df_total\u001B[38;5;241m.\u001B[39mdropna(axis\u001B[38;5;241m=\u001B[39m\u001B[38;5;241m1\u001B[39m, how\u001B[38;5;241m=\u001B[39m\u001B[38;5;124m'\u001B[39m\u001B[38;5;124mall\u001B[39m\u001B[38;5;124m'\u001B[39m), df\u001B[38;5;241m.\u001B[39mdropna(axis\u001B[38;5;241m=\u001B[39m\u001B[38;5;241m1\u001B[39m, how\u001B[38;5;241m=\u001B[39m\u001B[38;5;124m'\u001B[39m\u001B[38;5;124mall\u001B[39m\u001B[38;5;124m'\u001B[39m)], ignore_index\u001B[38;5;241m=\u001B[39m\u001B[38;5;28;01mTrue\u001B[39;00m)\n\u001B[0;32m    129\u001B[0m     pbar\u001B[38;5;241m.\u001B[39mupdate(\u001B[38;5;241m1\u001B[39m)\n",
      "File \u001B[1;32m~\\Desktop\\Traffic Sign Detenction and Recognition\\predict\\detenction_and_classification\\dataset.py:139\u001B[0m, in \u001B[0;36mgenerate_dataframe_for_file\u001B[1;34m(file)\u001B[0m\n\u001B[0;32m    137\u001B[0m filename \u001B[38;5;241m=\u001B[39m file \u001B[38;5;241m+\u001B[39m \u001B[38;5;124m'\u001B[39m\u001B[38;5;124m.jpg\u001B[39m\u001B[38;5;124m'\u001B[39m\n\u001B[0;32m    138\u001B[0m annotations \u001B[38;5;241m=\u001B[39m labeling(file)\n\u001B[1;32m--> 139\u001B[0m predictions \u001B[38;5;241m=\u001B[39m predict(file)\n\u001B[0;32m    140\u001B[0m \u001B[38;5;66;03m#print(\"Annotations ->\", annotations)\u001B[39;00m\n\u001B[0;32m    141\u001B[0m \u001B[38;5;66;03m#print(\"Predictions ->\", predictions)\u001B[39;00m\n\u001B[0;32m    142\u001B[0m \u001B[38;5;66;03m# loop on the list annotations\u001B[39;00m\n\u001B[0;32m    143\u001B[0m \u001B[38;5;28;01mfor\u001B[39;00m indexA, annotation \u001B[38;5;129;01min\u001B[39;00m \u001B[38;5;28menumerate\u001B[39m(annotations):\n",
      "File \u001B[1;32m~\\Desktop\\Traffic Sign Detenction and Recognition\\predict\\detenction_and_classification\\dataset.py:109\u001B[0m, in \u001B[0;36mpredict\u001B[1;34m(file)\u001B[0m\n\u001B[0;32m    107\u001B[0m conf_detect \u001B[38;5;241m=\u001B[39m \u001B[38;5;28mround\u001B[39m(box\u001B[38;5;241m.\u001B[39mconf[\u001B[38;5;241m0\u001B[39m]\u001B[38;5;241m.\u001B[39mitem(), \u001B[38;5;241m2\u001B[39m)\n\u001B[0;32m    108\u001B[0m crop_predict \u001B[38;5;241m=\u001B[39m crop_image(path, cords)\n\u001B[1;32m--> 109\u001B[0m crop_predict\u001B[38;5;241m.\u001B[39mshow()\n\u001B[0;32m    110\u001B[0m results2 \u001B[38;5;241m=\u001B[39m model_classify(crop_image(path, cords), conf\u001B[38;5;241m=\u001B[39m\u001B[38;5;241m0.7\u001B[39m, verbose\u001B[38;5;241m=\u001B[39m\u001B[38;5;28;01mFalse\u001B[39;00m)\n\u001B[0;32m    111\u001B[0m key \u001B[38;5;241m=\u001B[39m results2[\u001B[38;5;241m0\u001B[39m]\u001B[38;5;241m.\u001B[39mprobs\u001B[38;5;241m.\u001B[39mtop1\n",
      "File \u001B[1;32m~\\anaconda3\\envs\\Traffic Sign Detenction and Recognition\\Lib\\site-packages\\PIL\\Image.py:2485\u001B[0m, in \u001B[0;36mImage.show\u001B[1;34m(self, title)\u001B[0m\n\u001B[0;32m   2465\u001B[0m \u001B[38;5;28;01mdef\u001B[39;00m \u001B[38;5;21mshow\u001B[39m(\u001B[38;5;28mself\u001B[39m, title\u001B[38;5;241m=\u001B[39m\u001B[38;5;28;01mNone\u001B[39;00m):\n\u001B[0;32m   2466\u001B[0m \u001B[38;5;250m    \u001B[39m\u001B[38;5;124;03m\"\"\"\u001B[39;00m\n\u001B[0;32m   2467\u001B[0m \u001B[38;5;124;03m    Displays this image. This method is mainly intended for debugging purposes.\u001B[39;00m\n\u001B[0;32m   2468\u001B[0m \n\u001B[1;32m   (...)\u001B[0m\n\u001B[0;32m   2482\u001B[0m \u001B[38;5;124;03m    :param title: Optional title to use for the image window, where possible.\u001B[39;00m\n\u001B[0;32m   2483\u001B[0m \u001B[38;5;124;03m    \"\"\"\u001B[39;00m\n\u001B[1;32m-> 2485\u001B[0m     _show(\u001B[38;5;28mself\u001B[39m, title\u001B[38;5;241m=\u001B[39mtitle)\n",
      "File \u001B[1;32m~\\anaconda3\\envs\\Traffic Sign Detenction and Recognition\\Lib\\site-packages\\PIL\\Image.py:3508\u001B[0m, in \u001B[0;36m_show\u001B[1;34m(image, **options)\u001B[0m\n\u001B[0;32m   3505\u001B[0m \u001B[38;5;28;01mdef\u001B[39;00m \u001B[38;5;21m_show\u001B[39m(image, \u001B[38;5;241m*\u001B[39m\u001B[38;5;241m*\u001B[39moptions):\n\u001B[0;32m   3506\u001B[0m     \u001B[38;5;28;01mfrom\u001B[39;00m \u001B[38;5;21;01m.\u001B[39;00m \u001B[38;5;28;01mimport\u001B[39;00m ImageShow\n\u001B[1;32m-> 3508\u001B[0m     ImageShow\u001B[38;5;241m.\u001B[39mshow(image, \u001B[38;5;241m*\u001B[39m\u001B[38;5;241m*\u001B[39moptions)\n",
      "File \u001B[1;32m~\\anaconda3\\envs\\Traffic Sign Detenction and Recognition\\Lib\\site-packages\\PIL\\ImageShow.py:62\u001B[0m, in \u001B[0;36mshow\u001B[1;34m(image, title, **options)\u001B[0m\n\u001B[0;32m     53\u001B[0m \u001B[38;5;250m\u001B[39m\u001B[38;5;124mr\u001B[39m\u001B[38;5;124;03m\"\"\"\u001B[39;00m\n\u001B[0;32m     54\u001B[0m \u001B[38;5;124;03mDisplay a given image.\u001B[39;00m\n\u001B[0;32m     55\u001B[0m \n\u001B[1;32m   (...)\u001B[0m\n\u001B[0;32m     59\u001B[0m \u001B[38;5;124;03m:returns: ``True`` if a suitable viewer was found, ``False`` otherwise.\u001B[39;00m\n\u001B[0;32m     60\u001B[0m \u001B[38;5;124;03m\"\"\"\u001B[39;00m\n\u001B[0;32m     61\u001B[0m \u001B[38;5;28;01mfor\u001B[39;00m viewer \u001B[38;5;129;01min\u001B[39;00m _viewers:\n\u001B[1;32m---> 62\u001B[0m     \u001B[38;5;28;01mif\u001B[39;00m viewer\u001B[38;5;241m.\u001B[39mshow(image, title\u001B[38;5;241m=\u001B[39mtitle, \u001B[38;5;241m*\u001B[39m\u001B[38;5;241m*\u001B[39moptions):\n\u001B[0;32m     63\u001B[0m         \u001B[38;5;28;01mreturn\u001B[39;00m \u001B[38;5;28;01mTrue\u001B[39;00m\n\u001B[0;32m     64\u001B[0m \u001B[38;5;28;01mreturn\u001B[39;00m \u001B[38;5;28;01mFalse\u001B[39;00m\n",
      "File \u001B[1;32m~\\anaconda3\\envs\\Traffic Sign Detenction and Recognition\\Lib\\site-packages\\PIL\\ImageShow.py:86\u001B[0m, in \u001B[0;36mViewer.show\u001B[1;34m(self, image, **options)\u001B[0m\n\u001B[0;32m     83\u001B[0m     \u001B[38;5;28;01mif\u001B[39;00m image\u001B[38;5;241m.\u001B[39mmode \u001B[38;5;241m!=\u001B[39m base:\n\u001B[0;32m     84\u001B[0m         image \u001B[38;5;241m=\u001B[39m image\u001B[38;5;241m.\u001B[39mconvert(base)\n\u001B[1;32m---> 86\u001B[0m \u001B[38;5;28;01mreturn\u001B[39;00m \u001B[38;5;28mself\u001B[39m\u001B[38;5;241m.\u001B[39mshow_image(image, \u001B[38;5;241m*\u001B[39m\u001B[38;5;241m*\u001B[39moptions)\n",
      "File \u001B[1;32m~\\anaconda3\\envs\\Traffic Sign Detenction and Recognition\\Lib\\site-packages\\PIL\\ImageShow.py:112\u001B[0m, in \u001B[0;36mViewer.show_image\u001B[1;34m(self, image, **options)\u001B[0m\n\u001B[0;32m    110\u001B[0m \u001B[38;5;28;01mdef\u001B[39;00m \u001B[38;5;21mshow_image\u001B[39m(\u001B[38;5;28mself\u001B[39m, image, \u001B[38;5;241m*\u001B[39m\u001B[38;5;241m*\u001B[39moptions):\n\u001B[0;32m    111\u001B[0m \u001B[38;5;250m    \u001B[39m\u001B[38;5;124;03m\"\"\"Display the given image.\"\"\"\u001B[39;00m\n\u001B[1;32m--> 112\u001B[0m     \u001B[38;5;28;01mreturn\u001B[39;00m \u001B[38;5;28mself\u001B[39m\u001B[38;5;241m.\u001B[39mshow_file(\u001B[38;5;28mself\u001B[39m\u001B[38;5;241m.\u001B[39msave_image(image), \u001B[38;5;241m*\u001B[39m\u001B[38;5;241m*\u001B[39moptions)\n",
      "File \u001B[1;32m~\\anaconda3\\envs\\Traffic Sign Detenction and Recognition\\Lib\\site-packages\\PIL\\ImageShow.py:129\u001B[0m, in \u001B[0;36mViewer.show_file\u001B[1;34m(self, path, **options)\u001B[0m\n\u001B[0;32m    127\u001B[0m         msg \u001B[38;5;241m=\u001B[39m \u001B[38;5;124m\"\u001B[39m\u001B[38;5;124mMissing required argument: \u001B[39m\u001B[38;5;124m'\u001B[39m\u001B[38;5;124mpath\u001B[39m\u001B[38;5;124m'\u001B[39m\u001B[38;5;124m\"\u001B[39m\n\u001B[0;32m    128\u001B[0m         \u001B[38;5;28;01mraise\u001B[39;00m \u001B[38;5;167;01mTypeError\u001B[39;00m(msg)\n\u001B[1;32m--> 129\u001B[0m os\u001B[38;5;241m.\u001B[39msystem(\u001B[38;5;28mself\u001B[39m\u001B[38;5;241m.\u001B[39mget_command(path, \u001B[38;5;241m*\u001B[39m\u001B[38;5;241m*\u001B[39moptions))  \u001B[38;5;66;03m# nosec\u001B[39;00m\n\u001B[0;32m    130\u001B[0m \u001B[38;5;28;01mreturn\u001B[39;00m \u001B[38;5;241m1\u001B[39m\n",
      "\u001B[1;31mKeyboardInterrupt\u001B[0m: "
     ]
    }
   ],
   "source": [
    "df = ds.generate_dataframe(ds.init_list())\n",
    "df.to_csv('C:/Users/Paolo/Desktop/results.csv', index=False)\n",
    "# display(df)"
   ],
   "metadata": {
    "collapsed": false,
    "ExecuteTime": {
     "end_time": "2023-11-26T11:52:55.121353700Z",
     "start_time": "2023-11-26T11:52:01.043417400Z"
    }
   },
   "id": "45b3b8ecba36b617"
  },
  {
   "cell_type": "code",
   "execution_count": null,
   "outputs": [],
   "source": [
    "ds.metrics(df)"
   ],
   "metadata": {
    "collapsed": false,
    "ExecuteTime": {
     "end_time": "2023-11-26T11:52:55.157721700Z",
     "start_time": "2023-11-26T11:52:55.123357800Z"
    }
   },
   "id": "9dfd97e00e77fe0f"
  },
  {
   "cell_type": "code",
   "execution_count": null,
   "outputs": [],
   "source": [
    "display(df)"
   ],
   "metadata": {
    "collapsed": false,
    "ExecuteTime": {
     "start_time": "2023-11-26T11:52:55.127356900Z"
    }
   },
   "id": "d40ad8984e7e1375"
  },
  {
   "cell_type": "code",
   "execution_count": null,
   "outputs": [],
   "source": [
    "ds.create_pictures(df)"
   ],
   "metadata": {
    "collapsed": false,
    "ExecuteTime": {
     "start_time": "2023-11-26T11:52:55.133957500Z"
    }
   },
   "id": "4922291b4625b78d"
  },
  {
   "cell_type": "code",
   "execution_count": null,
   "outputs": [],
   "source": [],
   "metadata": {
    "collapsed": false,
    "ExecuteTime": {
     "start_time": "2023-11-26T11:52:55.137985700Z"
    }
   },
   "id": "ea3187fecb767eb6"
  },
  {
   "cell_type": "code",
   "execution_count": null,
   "outputs": [],
   "source": [],
   "metadata": {
    "collapsed": false,
    "ExecuteTime": {
     "start_time": "2023-11-26T11:52:55.141986500Z"
    }
   },
   "id": "dd29c253e362498f"
  },
  {
   "cell_type": "code",
   "execution_count": null,
   "outputs": [],
   "source": [],
   "metadata": {
    "collapsed": false,
    "ExecuteTime": {
     "start_time": "2023-11-26T11:52:55.148167400Z"
    }
   },
   "id": "b0ce55fb8e66dedc"
  },
  {
   "cell_type": "code",
   "execution_count": null,
   "outputs": [],
   "source": [],
   "metadata": {
    "collapsed": false,
    "ExecuteTime": {
     "start_time": "2023-11-26T11:52:55.151900700Z"
    }
   },
   "id": "cecfabd1b9c6a4aa"
  },
  {
   "cell_type": "code",
   "execution_count": null,
   "outputs": [],
   "source": [],
   "metadata": {
    "collapsed": false,
    "ExecuteTime": {
     "start_time": "2023-11-26T11:52:55.155430100Z"
    }
   },
   "id": "bee905e2187550fb"
  },
  {
   "cell_type": "code",
   "execution_count": null,
   "outputs": [],
   "source": [],
   "metadata": {
    "collapsed": false,
    "ExecuteTime": {
     "end_time": "2023-11-26T11:52:55.267992500Z",
     "start_time": "2023-11-26T11:52:55.159746700Z"
    }
   },
   "id": "56da0b6bea5080df"
  },
  {
   "cell_type": "code",
   "execution_count": null,
   "outputs": [],
   "source": [],
   "metadata": {
    "collapsed": false,
    "ExecuteTime": {
     "start_time": "2023-11-26T11:52:55.166749800Z"
    }
   },
   "id": "17970035bb200e81"
  },
  {
   "cell_type": "code",
   "execution_count": null,
   "outputs": [],
   "source": [],
   "metadata": {
    "collapsed": false,
    "ExecuteTime": {
     "start_time": "2023-11-26T11:52:55.172357200Z"
    }
   },
   "id": "f8564b395059a67f"
  },
  {
   "cell_type": "code",
   "execution_count": null,
   "outputs": [],
   "source": [],
   "metadata": {
    "collapsed": false,
    "ExecuteTime": {
     "start_time": "2023-11-26T11:52:55.174481900Z"
    }
   },
   "id": "d78447fd857ca3bf"
  },
  {
   "cell_type": "code",
   "execution_count": null,
   "outputs": [],
   "source": [],
   "metadata": {
    "collapsed": false,
    "ExecuteTime": {
     "start_time": "2023-11-26T11:52:55.176690600Z"
    }
   },
   "id": "419c23534b053005"
  }
 ],
 "metadata": {
  "kernelspec": {
   "display_name": "Python 3",
   "language": "python",
   "name": "python3"
  },
  "language_info": {
   "codemirror_mode": {
    "name": "ipython",
    "version": 2
   },
   "file_extension": ".py",
   "mimetype": "text/x-python",
   "name": "python",
   "nbconvert_exporter": "python",
   "pygments_lexer": "ipython2",
   "version": "2.7.6"
  }
 },
 "nbformat": 4,
 "nbformat_minor": 5
}
