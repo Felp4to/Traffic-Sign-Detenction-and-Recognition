{
 "cells": [
  {
   "cell_type": "code",
   "execution_count": 1,
   "outputs": [
    {
     "name": "stdout",
     "output_type": "stream",
     "text": [
      "Note: you may need to restart the kernel to use updated packages.\n"
     ]
    }
   ],
   "source": [
    "# Ultralytics installation\n",
    "%pip install -q git+https://github.com/ultralytics/ultralytics.git@main"
   ],
   "metadata": {
    "collapsed": false,
    "ExecuteTime": {
     "end_time": "2023-11-25T19:25:51.072217Z",
     "start_time": "2023-11-25T19:25:42.590530400Z"
    }
   },
   "id": "initial_id"
  },
  {
   "cell_type": "code",
   "execution_count": 2,
   "outputs": [
    {
     "name": "stdout",
     "output_type": "stream",
     "text": [
      "Requirement already satisfied: pandas in c:\\users\\paolo\\anaconda3\\envs\\traffic sign detenction and recognition\\lib\\site-packages (2.1.3)Note: you may need to restart the kernel to use updated packages.\n",
      "\n",
      "Requirement already satisfied: numpy<2,>=1.23.2 in c:\\users\\paolo\\anaconda3\\envs\\traffic sign detenction and recognition\\lib\\site-packages (from pandas) (1.25.2)\n",
      "Requirement already satisfied: python-dateutil>=2.8.2 in c:\\users\\paolo\\anaconda3\\envs\\traffic sign detenction and recognition\\lib\\site-packages (from pandas) (2.8.2)\n",
      "Requirement already satisfied: pytz>=2020.1 in c:\\users\\paolo\\anaconda3\\envs\\traffic sign detenction and recognition\\lib\\site-packages (from pandas) (2023.3.post1)\n",
      "Requirement already satisfied: tzdata>=2022.1 in c:\\users\\paolo\\anaconda3\\envs\\traffic sign detenction and recognition\\lib\\site-packages (from pandas) (2023.3)\n",
      "Requirement already satisfied: six>=1.5 in c:\\users\\paolo\\anaconda3\\envs\\traffic sign detenction and recognition\\lib\\site-packages (from python-dateutil>=2.8.2->pandas) (1.16.0)\n"
     ]
    }
   ],
   "source": [
    "%pip install --upgrade pandas"
   ],
   "metadata": {
    "collapsed": false,
    "ExecuteTime": {
     "end_time": "2023-11-25T19:25:54.905275800Z",
     "start_time": "2023-11-25T19:25:51.056517200Z"
    }
   },
   "id": "16242b00bbbeac6c"
  },
  {
   "cell_type": "code",
   "execution_count": 3,
   "outputs": [
    {
     "name": "stdout",
     "output_type": "stream",
     "text": [
      "Ultralytics YOLOv8.0.218 🚀 Python-3.11.5 torch-2.1.1+cpu CPU (Intel Core(TM) i3-1005G1 1.20GHz)\n",
      "Setup complete ✅ (4 CPUs, 11.8 GB RAM, 293.6/322.3 GB disk)\n"
     ]
    }
   ],
   "source": [
    "import dataset as ds\n",
    "import ultralytics\n",
    "ultralytics.checks()"
   ],
   "metadata": {
    "collapsed": false
   },
   "id": "20ab2784f81ae5db"
  },
  {
   "cell_type": "code",
   "execution_count": 4,
   "outputs": [],
   "source": [
    "ds.load_models()"
   ],
   "metadata": {
    "collapsed": false,
    "ExecuteTime": {
     "end_time": "2023-11-25T19:26:03.538085700Z",
     "start_time": "2023-11-25T19:26:03.319939800Z"
    }
   },
   "id": "e2a510a40349cbb8"
  },
  {
   "cell_type": "code",
   "execution_count": 5,
   "outputs": [],
   "source": [
    "# ds.print_filenames()"
   ],
   "metadata": {
    "collapsed": false,
    "ExecuteTime": {
     "end_time": "2023-11-25T19:26:03.561541900Z",
     "start_time": "2023-11-25T19:26:03.541853900Z"
    }
   },
   "id": "db839e0d051e79ce"
  },
  {
   "cell_type": "code",
   "execution_count": 6,
   "outputs": [],
   "source": [
    "# df = ds.generate_dataframe_for_file(file2)\n",
    "# display(df)"
   ],
   "metadata": {
    "collapsed": false,
    "ExecuteTime": {
     "end_time": "2023-11-25T19:26:03.561541900Z",
     "start_time": "2023-11-25T19:26:03.548541200Z"
    }
   },
   "id": "e76ebe91b59155a"
  },
  {
   "cell_type": "code",
   "execution_count": 7,
   "outputs": [
    {
     "name": "stdout",
     "output_type": "stream",
     "text": [
      "['00003', '00004', '00011', '00017', '00018', '00022', '00023', '00031', '00033', '00034', '00035', '00049', '00052', '00059', '00060', '00065', '00073', '00078', '00081', '00087', '00091', '00096', '00104', '00107', '00111', '00126', '00133', '00137', '00150', '00152', '00154', '00157', '00161', '00168', '00171', '00176', '00195', '00196', '00206', '00207', '00218', '00227', '00228', '00232', '00243', '00259', '00267', '00273', '00284', '00285', '00293', '00305', '00306', '00307', '00340', '00346', '00350', '00362', '00377', '00378', '00384', '00400', '00401', '00411', '00422', '00425', '00427', '00440', '00461', '00477', '00480', '00484', '00487', '00499', '00507', '00518', '00524', '00531', '00571', '00599', '00604', '00611', '00628', '00637', '00648', '00682', '00683', '00685', '00699', '00700', '00706', '00707', '00714', '00716', '00720', '00728', '00760', '00780', '00782', '00817', '00824', '00828', '00831', '00842', '00855', '00860', '00876', '00884', '00893', '00897', '00899']\n"
     ]
    }
   ],
   "source": [
    "print(ds.init_list())"
   ],
   "metadata": {
    "collapsed": false,
    "ExecuteTime": {
     "end_time": "2023-11-25T19:26:03.588058600Z",
     "start_time": "2023-11-25T19:26:03.558547700Z"
    }
   },
   "id": "80bf400d6ba7aa3c"
  },
  {
   "cell_type": "code",
   "execution_count": 8,
   "outputs": [
    {
     "name": "stderr",
     "output_type": "stream",
     "text": [
      "Prections:   2%|▏         | 2/111 [00:05<04:39,  2.57s/it]C:\\Users\\Paolo\\Desktop\\Traffic Sign Detenction and Recognition\\predict\\detenction_and_classification\\dataset.py:175: FutureWarning: The behavior of DataFrame concatenation with empty or all-NA entries is deprecated. In a future version, this will no longer exclude empty or all-NA columns when determining the result dtypes. To retain the old behavior, exclude the relevant entries before the concat operation.\n",
      "  df.loc[len(df)] = new_row\n",
      "Prections:  15%|█▌        | 17/111 [00:20<01:51,  1.18s/it]C:\\Users\\Paolo\\Desktop\\Traffic Sign Detenction and Recognition\\predict\\detenction_and_classification\\dataset.py:175: FutureWarning: The behavior of DataFrame concatenation with empty or all-NA entries is deprecated. In a future version, this will no longer exclude empty or all-NA columns when determining the result dtypes. To retain the old behavior, exclude the relevant entries before the concat operation.\n",
      "  df.loc[len(df)] = new_row\n",
      "Prections:  16%|█▌        | 18/111 [00:21<01:39,  1.07s/it]C:\\Users\\Paolo\\Desktop\\Traffic Sign Detenction and Recognition\\predict\\detenction_and_classification\\dataset.py:175: FutureWarning: The behavior of DataFrame concatenation with empty or all-NA entries is deprecated. In a future version, this will no longer exclude empty or all-NA columns when determining the result dtypes. To retain the old behavior, exclude the relevant entries before the concat operation.\n",
      "  df.loc[len(df)] = new_row\n",
      "Prections: 100%|██████████| 111/111 [01:49<00:00,  1.01it/s]\n"
     ]
    }
   ],
   "source": [
    "df = ds.generate_dataframe(ds.init_list())\n",
    "df.to_csv('C:/Users/Paolo/Desktop/results.csv', index=False)\n",
    "# display(df)"
   ],
   "metadata": {
    "collapsed": false,
    "ExecuteTime": {
     "end_time": "2023-11-25T19:27:53.446058700Z",
     "start_time": "2023-11-25T19:26:03.581057300Z"
    }
   },
   "id": "45b3b8ecba36b617"
  },
  {
   "cell_type": "code",
   "execution_count": 9,
   "outputs": [
    {
     "name": "stdout",
     "output_type": "stream",
     "text": [
      "Precision: 0.9845360824742269\n",
      "Recall: 0.9794871794871794\n"
     ]
    },
    {
     "data": {
      "text/plain": "(0.9845360824742269, 0.9794871794871794)"
     },
     "execution_count": 9,
     "metadata": {},
     "output_type": "execute_result"
    }
   ],
   "source": [
    "ds.metrics(df)"
   ],
   "metadata": {
    "collapsed": false,
    "ExecuteTime": {
     "end_time": "2023-11-25T19:27:53.464129700Z",
     "start_time": "2023-11-25T19:27:53.440385100Z"
    }
   },
   "id": "9dfd97e00e77fe0f"
  },
  {
   "cell_type": "code",
   "execution_count": 10,
   "outputs": [
    {
     "name": "stderr",
     "output_type": "stream",
     "text": [
      "Draw predictions: 100%|██████████| 111/111 [00:11<00:00,  9.64it/s]\n"
     ]
    }
   ],
   "source": [
    "ds.create_pictures(df)"
   ],
   "metadata": {
    "collapsed": false,
    "ExecuteTime": {
     "end_time": "2023-11-25T19:28:05.001509700Z",
     "start_time": "2023-11-25T19:27:53.459117900Z"
    }
   },
   "id": "4922291b4625b78d"
  },
  {
   "cell_type": "code",
   "execution_count": 10,
   "outputs": [],
   "source": [],
   "metadata": {
    "collapsed": false,
    "ExecuteTime": {
     "end_time": "2023-11-25T19:28:05.002010200Z",
     "start_time": "2023-11-25T19:28:04.989399800Z"
    }
   },
   "id": "ea3187fecb767eb6"
  },
  {
   "cell_type": "code",
   "execution_count": 10,
   "outputs": [],
   "source": [],
   "metadata": {
    "collapsed": false,
    "ExecuteTime": {
     "end_time": "2023-11-25T19:28:05.004406900Z",
     "start_time": "2023-11-25T19:28:04.997483300Z"
    }
   },
   "id": "dd29c253e362498f"
  },
  {
   "cell_type": "code",
   "execution_count": 10,
   "outputs": [],
   "source": [],
   "metadata": {
    "collapsed": false,
    "ExecuteTime": {
     "end_time": "2023-11-25T19:28:05.025715800Z",
     "start_time": "2023-11-25T19:28:05.003788600Z"
    }
   },
   "id": "b0ce55fb8e66dedc"
  },
  {
   "cell_type": "code",
   "execution_count": 10,
   "outputs": [],
   "source": [],
   "metadata": {
    "collapsed": false,
    "ExecuteTime": {
     "end_time": "2023-11-25T19:28:05.045633400Z",
     "start_time": "2023-11-25T19:28:05.016076400Z"
    }
   },
   "id": "cecfabd1b9c6a4aa"
  },
  {
   "cell_type": "code",
   "execution_count": 10,
   "outputs": [],
   "source": [],
   "metadata": {
    "collapsed": false,
    "ExecuteTime": {
     "end_time": "2023-11-25T19:28:05.047338400Z",
     "start_time": "2023-11-25T19:28:05.021384400Z"
    }
   },
   "id": "bee905e2187550fb"
  },
  {
   "cell_type": "code",
   "execution_count": 10,
   "outputs": [],
   "source": [],
   "metadata": {
    "collapsed": false,
    "ExecuteTime": {
     "end_time": "2023-11-25T19:28:05.047841800Z",
     "start_time": "2023-11-25T19:28:05.030837400Z"
    }
   },
   "id": "56da0b6bea5080df"
  },
  {
   "cell_type": "code",
   "execution_count": 10,
   "outputs": [],
   "source": [],
   "metadata": {
    "collapsed": false,
    "ExecuteTime": {
     "end_time": "2023-11-25T19:28:05.069066400Z",
     "start_time": "2023-11-25T19:28:05.035684900Z"
    }
   },
   "id": "17970035bb200e81"
  },
  {
   "cell_type": "code",
   "execution_count": 10,
   "outputs": [],
   "source": [],
   "metadata": {
    "collapsed": false,
    "ExecuteTime": {
     "end_time": "2023-11-25T19:28:05.069776800Z",
     "start_time": "2023-11-25T19:28:05.049563700Z"
    }
   },
   "id": "f8564b395059a67f"
  },
  {
   "cell_type": "code",
   "execution_count": 10,
   "outputs": [],
   "source": [],
   "metadata": {
    "collapsed": false,
    "ExecuteTime": {
     "end_time": "2023-11-25T19:28:05.069776800Z",
     "start_time": "2023-11-25T19:28:05.060825900Z"
    }
   },
   "id": "d78447fd857ca3bf"
  },
  {
   "cell_type": "code",
   "execution_count": 10,
   "outputs": [],
   "source": [],
   "metadata": {
    "collapsed": false,
    "ExecuteTime": {
     "end_time": "2023-11-25T19:28:05.114924700Z",
     "start_time": "2023-11-25T19:28:05.065557800Z"
    }
   },
   "id": "419c23534b053005"
  }
 ],
 "metadata": {
  "kernelspec": {
   "display_name": "Python 3",
   "language": "python",
   "name": "python3"
  },
  "language_info": {
   "codemirror_mode": {
    "name": "ipython",
    "version": 2
   },
   "file_extension": ".py",
   "mimetype": "text/x-python",
   "name": "python",
   "nbconvert_exporter": "python",
   "pygments_lexer": "ipython2",
   "version": "2.7.6"
  }
 },
 "nbformat": 4,
 "nbformat_minor": 5
}
