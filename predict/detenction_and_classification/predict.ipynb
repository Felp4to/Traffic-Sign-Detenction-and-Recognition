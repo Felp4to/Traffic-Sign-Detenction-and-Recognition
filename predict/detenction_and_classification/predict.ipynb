{
 "cells": [
  {
   "cell_type": "code",
   "execution_count": 1,
   "outputs": [
    {
     "name": "stdout",
     "output_type": "stream",
     "text": [
      "Note: you may need to restart the kernel to use updated packages.\n"
     ]
    }
   ],
   "source": [
    "# Ultralytics installation\n",
    "%pip install -q git+https://github.com/ultralytics/ultralytics.git@main"
   ],
   "metadata": {
    "collapsed": false,
    "ExecuteTime": {
     "end_time": "2023-11-22T14:04:25.115997500Z",
     "start_time": "2023-11-22T14:04:16.585630400Z"
    }
   },
   "id": "initial_id"
  },
  {
   "cell_type": "code",
   "execution_count": 2,
   "outputs": [
    {
     "name": "stdout",
     "output_type": "stream",
     "text": [
      "Ultralytics YOLOv8.0.215 🚀 Python-3.11.5 torch-2.1.1+cpu CPU (Intel Core(TM) i3-1005G1 1.20GHz)\n",
      "Setup complete ✅ (4 CPUs, 11.8 GB RAM, 292.8/322.3 GB disk)\n"
     ]
    }
   ],
   "source": [
    "import cv2\n",
    "import dataset as ds\n",
    "import ultralytics\n",
    "ultralytics.checks()"
   ],
   "metadata": {
    "collapsed": false
   },
   "id": "20ab2784f81ae5db"
  },
  {
   "cell_type": "code",
   "execution_count": 3,
   "outputs": [],
   "source": [
    "ds.load_models()"
   ],
   "metadata": {
    "collapsed": false,
    "ExecuteTime": {
     "end_time": "2023-11-22T14:04:31.522230800Z",
     "start_time": "2023-11-22T14:04:31.404287800Z"
    }
   },
   "id": "e2a510a40349cbb8"
  },
  {
   "cell_type": "code",
   "execution_count": 4,
   "outputs": [
    {
     "name": "stdout",
     "output_type": "stream",
     "text": [
      "image 1/1 C:\\Users\\Paolo\\Desktop\\Prova2\\Traffic Sign Detenction\\Traffic Sign Detenction\\test\\images\\00262.jpg: 608x1024 1 mandatory, 1 priority road, 665.7ms\n",
      "Speed: 0.0ms preprocess, 665.7ms inference, 2.1ms postprocess per image at shape (1, 3, 608, 1024)\n",
      "0: 640x640 12 1.00, 17 0.00, 25 0.00, 14 0.00, 35 0.00, 95.5ms\n",
      "Speed: 16.1ms preprocess, 95.5ms inference, 0.0ms postprocess per image at shape (1, 3, 640, 640)\n",
      "-------- Prediction ----------\n",
      "SuperClass ID:  3\n",
      "SuperClass Name: priority road\n",
      "Coordinates: [1042, 35, 1145, 142]\n",
      "Confidence (detenct): 0.94\n",
      "Class ID: 12\n",
      "Class Name: priority road (other)\n",
      "Confidence (classify): 0.9999998807907104\n",
      "------------------------------\n",
      "0: 640x640 36 1.00, 37 0.00, 35 0.00, 33 0.00, 8 0.00, 97.8ms\n",
      "Speed: 0.0ms preprocess, 97.8ms inference, 0.0ms postprocess per image at shape (1, 3, 640, 640)\n",
      "-------- Prediction ----------\n",
      "SuperClass ID:  2\n",
      "SuperClass Name: mandatory\n",
      "Coordinates: [894, 282, 954, 341]\n",
      "Confidence (detenct): 0.92\n",
      "Class ID: 36\n",
      "Class Name: go right or straight (mandatory)\n",
      "Confidence (classify): 0.9999397993087769\n",
      "------------------------------\n"
     ]
    }
   ],
   "source": [
    "file = 'C:/Users/Paolo/Desktop/Prova2/Traffic Sign Detenction/Traffic Sign Detenction/test/images/00262.jpg'\n",
    "ds.predict(file)"
   ],
   "metadata": {
    "collapsed": false,
    "ExecuteTime": {
     "end_time": "2023-11-22T14:04:35.972666900Z",
     "start_time": "2023-11-22T14:04:31.522230800Z"
    }
   },
   "id": "5df2557a3e0ceffb"
  },
  {
   "cell_type": "code",
   "execution_count": null,
   "outputs": [],
   "source": [],
   "metadata": {
    "collapsed": false
   },
   "id": "a5e8b539e5afe675"
  },
  {
   "cell_type": "code",
   "execution_count": null,
   "outputs": [],
   "source": [],
   "metadata": {
    "collapsed": false
   },
   "id": "e76ebe91b59155a"
  },
  {
   "cell_type": "code",
   "execution_count": null,
   "outputs": [],
   "source": [],
   "metadata": {
    "collapsed": false
   },
   "id": "9dfd97e00e77fe0f"
  },
  {
   "cell_type": "code",
   "execution_count": null,
   "outputs": [],
   "source": [],
   "metadata": {
    "collapsed": false
   },
   "id": "d78447fd857ca3bf"
  },
  {
   "cell_type": "code",
   "execution_count": null,
   "outputs": [],
   "source": [
    "ds.init_list()\n",
    "ds.print_filenames()"
   ],
   "metadata": {
    "collapsed": false
   },
   "id": "419c23534b053005"
  }
 ],
 "metadata": {
  "kernelspec": {
   "display_name": "Python 3",
   "language": "python",
   "name": "python3"
  },
  "language_info": {
   "codemirror_mode": {
    "name": "ipython",
    "version": 2
   },
   "file_extension": ".py",
   "mimetype": "text/x-python",
   "name": "python",
   "nbconvert_exporter": "python",
   "pygments_lexer": "ipython2",
   "version": "2.7.6"
  }
 },
 "nbformat": 4,
 "nbformat_minor": 5
}
