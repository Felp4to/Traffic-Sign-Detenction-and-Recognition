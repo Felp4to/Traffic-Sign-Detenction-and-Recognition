{
 "cells": [
  {
   "cell_type": "code",
   "execution_count": null,
   "outputs": [],
   "source": [
    "from google.colab import drive\n",
    "drive.mount('/content/drive')"
   ],
   "metadata": {
    "collapsed": false
   },
   "id": "41aa1299912c4c9a"
  },
  {
   "cell_type": "code",
   "execution_count": null,
   "outputs": [],
   "source": [
    "%pip install ultralytics\n",
    "import ultralytics\n",
    "ultralytics.checks()"
   ],
   "metadata": {
    "collapsed": false
   },
   "id": "3527899097814909"
  },
  {
   "cell_type": "code",
   "execution_count": null,
   "outputs": [],
   "source": [
    "from ultralytics import YOLO\n",
    "import tensorflow as tf\n",
    "import cv2\n",
    "import os\n",
    "import sys\n",
    "import shutil"
   ],
   "metadata": {
    "collapsed": false
   },
   "id": "7fc232485ea12a82"
  },
  {
   "cell_type": "code",
   "execution_count": null,
   "outputs": [],
   "source": [
    "device_list = tf.test.gpu_device_name()\n",
    "device_list"
   ],
   "metadata": {
    "collapsed": false
   },
   "id": "9c308af0f254ace4"
  },
  {
   "cell_type": "code",
   "execution_count": null,
   "outputs": [],
   "source": [
    "model = YOLO('yolov8s.yaml')"
   ],
   "metadata": {
    "collapsed": false
   },
   "id": "9a83ce620aebf8bf"
  },
  {
   "cell_type": "code",
   "execution_count": null,
   "outputs": [],
   "source": [
    "# Display model information\n",
    "model.info()"
   ],
   "metadata": {
    "collapsed": false
   },
   "id": "f84e21589b34f21f"
  },
  {
   "cell_type": "code",
   "execution_count": null,
   "outputs": [],
   "source": [
    "results = model.train(data='.../Traffic Sign Detenction/config.yaml',\n",
    "                                                        epochs=100,\n",
    "                                                        imgsz=1024,\n",
    "                                                        device=[0],\n",
    "                                                        batch=16,\n",
    "                                                        patience=25)"
   ],
   "metadata": {
    "collapsed": false
   },
   "id": "385304f83e11b4cd"
  },
  {
   "cell_type": "code",
   "execution_count": null,
   "outputs": [],
   "source": [
    "# Specify the folder path that you want to download\n",
    "folder = '/content/runs/detect/train'\n",
    "\n",
    "# Compress the folder in a zip file\n",
    "shutil.make_archive(\"/content/model_detenct_yolov8s_46_classes\", 'zip', folder)\n",
    "\n",
    "# Download zip file\n",
    "from google.colab import files\n",
    "files.download(\"/content/model_detenct_yolov8s_46_classes.zip\")"
   ],
   "metadata": {
    "collapsed": false
   },
   "id": "87a94abdf21ca7ce"
  },
  {
   "cell_type": "code",
   "execution_count": null,
   "outputs": [],
   "source": [
    "# Load a pre-trained model\n",
    "model = YOLO('/content/drive/MyDrive/Colab Notebooks/Traffic Sign Detenction/runs/detect/train/weights/last.pt')\n",
    "\n",
    "# Resume training\n",
    "results = model.train(resume=True)"
   ],
   "metadata": {
    "collapsed": false
   },
   "id": "fb2354bdc2f6b728"
  },
  {
   "cell_type": "code",
   "execution_count": null,
   "outputs": [],
   "source": [],
   "metadata": {
    "collapsed": false
   },
   "id": "7ddb4ed300260dc4"
  },
  {
   "cell_type": "code",
   "execution_count": null,
   "outputs": [],
   "source": [],
   "metadata": {
    "collapsed": false
   },
   "id": "6fdf9f030dbf5446"
  }
 ],
 "metadata": {
  "kernelspec": {
   "display_name": "Python 3",
   "language": "python",
   "name": "python3"
  },
  "language_info": {
   "codemirror_mode": {
    "name": "ipython",
    "version": 2
   },
   "file_extension": ".py",
   "mimetype": "text/x-python",
   "name": "python",
   "nbconvert_exporter": "python",
   "pygments_lexer": "ipython2",
   "version": "2.7.6"
  }
 },
 "nbformat": 4,
 "nbformat_minor": 5
}
