{
 "cells": [
  {
   "cell_type": "code",
   "execution_count": null,
   "outputs": [],
   "source": [
    "# This Notebook must be run in Google Colab"
   ],
   "metadata": {
    "collapsed": false
   },
   "id": "cc150283eb273ef8"
  },
  {
   "cell_type": "code",
   "execution_count": null,
   "outputs": [],
   "source": [
    "from google.colab import drive\n",
    "drive.mount('/content/drive')"
   ],
   "metadata": {
    "collapsed": false
   },
   "id": "4922f777ccf10d4f"
  },
  {
   "cell_type": "code",
   "execution_count": null,
   "outputs": [],
   "source": [
    "%pip install ultralytics\n",
    "import ultralytics\n",
    "ultralytics.checks()"
   ],
   "metadata": {
    "collapsed": false
   },
   "id": "5daaf5869954f18f"
  },
  {
   "cell_type": "code",
   "execution_count": null,
   "outputs": [],
   "source": [
    "import os\n",
    "import cv2\n",
    "from ultralytics import YOLO\n",
    "import sys\n",
    "import shutil"
   ],
   "metadata": {
    "collapsed": false
   },
   "id": "aeab9046a3b660a0"
  },
  {
   "cell_type": "code",
   "execution_count": null,
   "outputs": [],
   "source": [
    "device_list = tf.test.gpu_device_name()\n",
    "device_list"
   ],
   "metadata": {
    "collapsed": false
   },
   "id": "e1d56024c21a2f82"
  },
  {
   "cell_type": "code",
   "execution_count": null,
   "outputs": [],
   "source": [
    "model = YOLO('yolov8s.yaml')  # build a new model from YAML\n",
    "# model = YOLO('yolov8n.yaml')  # build a new model from YAML"
   ],
   "metadata": {
    "collapsed": false
   },
   "id": "1e2bb6d6af70b8d2"
  },
  {
   "cell_type": "code",
   "execution_count": null,
   "outputs": [],
   "source": [
    "# Display model information (optional)\n",
    "model.info()"
   ],
   "metadata": {
    "collapsed": false
   },
   "id": "c429c31f2d15a624"
  },
  {
   "cell_type": "code",
   "execution_count": null,
   "outputs": [],
   "source": [
    "results = model.train(data='/content/drive/MyDrive/Colab Notebooks/Traffic Sign Detenction/config.yaml',\n",
    "                                                                                              epochs=100,\n",
    "                                                                                              imgsz=1024,\n",
    "                                                                                              device=[0],\n",
    "                                                                                              batch=16,\n",
    "                                                                                              patience=25) "
   ],
   "metadata": {
    "collapsed": false
   },
   "id": "963ef79b9b191272"
  },
  {
   "cell_type": "code",
   "execution_count": null,
   "outputs": [],
   "source": [
    "# Specifica il percorso della cartella che desideri scaricare\n",
    "folder = '/content/runs/detect/train'\n",
    "\n",
    "# Comprimi la cartella in un file ZIP\n",
    "shutil.make_archive(\"/content/model\", 'zip', folder)\n",
    "\n",
    "# Scarica il file ZIP sul tuo computer locale\n",
    "from google.colab import files\n",
    "files.download(\"/content/model.zip\")"
   ],
   "metadata": {
    "collapsed": false
   },
   "id": "b4bd6f6595e2675d"
  },
  {
   "cell_type": "code",
   "execution_count": null,
   "outputs": [],
   "source": [
    "# Load a model\n",
    "# model = YOLO('/content/runs/detect/train/weights/last.pt')  # load a partially trained model\n",
    "model = YOLO('/content/drive/MyDrive/Colab Notebooks/Traffic Sign Detenction/runs/detect/train/weights/last.pt')\n",
    "\n",
    "# Resume training\n",
    "results = model.train(resume=True)"
   ],
   "metadata": {
    "collapsed": false
   },
   "id": "5f2630f8123d8c62"
  }
 ],
 "metadata": {
  "kernelspec": {
   "display_name": "Python 3",
   "language": "python",
   "name": "python3"
  },
  "language_info": {
   "codemirror_mode": {
    "name": "ipython",
    "version": 2
   },
   "file_extension": ".py",
   "mimetype": "text/x-python",
   "name": "python",
   "nbconvert_exporter": "python",
   "pygments_lexer": "ipython2",
   "version": "2.7.6"
  }
 },
 "nbformat": 4,
 "nbformat_minor": 5
}
