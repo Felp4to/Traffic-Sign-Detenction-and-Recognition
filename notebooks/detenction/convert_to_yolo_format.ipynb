{
 "cells": [
  {
   "cell_type": "code",
   "execution_count": 5,
   "id": "910a8029",
   "metadata": {
    "ExecuteTime": {
     "end_time": "2023-10-27T12:46:25.031861700Z",
     "start_time": "2023-10-27T12:46:24.997206700Z"
    }
   },
   "outputs": [],
   "source": [
    "import os\n",
    "from PIL import Image\n",
    "from pathlib import Path"
   ]
  },
  {
   "cell_type": "code",
   "execution_count": 6,
   "outputs": [],
   "source": [
    "SOURCE_PATH = \"C:/Users/Paolo/Desktop/Datasets/Dataset con distrattori - Traffic Sign Detenction - CODICE 3 - (900 immagini)/dataset_original/FullIJCNN2013\"\n",
    "DESTINATION_PATH = \"C:/Users/Paolo/Desktop/Datasets/Dataset con distrattori - Traffic Sign Detenction - CODICE 3 - (900 immagini)\"\n",
    "\n",
    "INPUT_FOLDER = r\"C:\\Users\\Paolo\\Progetto ML e Sii\\Traffic Sign Recognition\\dataset_original\\FullIJCNN2013\"\n",
    "OUTPUT_FOLDER = r\"C:\\Users\\Paolo\\Progetto ML e Sii\\Traffic Sign Recognition\\dataset_parsed\\images\""
   ],
   "metadata": {
    "collapsed": false,
    "ExecuteTime": {
     "end_time": "2023-10-27T12:46:25.775670400Z",
     "start_time": "2023-10-27T12:46:25.769667300Z"
    }
   },
   "id": "f25d9505d47248ec"
  },
  {
   "cell_type": "code",
   "execution_count": 7,
   "id": "8355b7d2",
   "metadata": {
    "ExecuteTime": {
     "end_time": "2023-10-27T12:46:26.457026700Z",
     "start_time": "2023-10-27T12:46:26.428498800Z"
    }
   },
   "outputs": [],
   "source": [
    "def convert_to_yolo_format(source_path, destination_path, image_width, image_height):\n",
    "    annotation_path = source_path + '/gt.txt'\n",
    "    folder = destination_path + '/labels'\n",
    "    new_folder = Path(folder)\n",
    "    new_folder.mkdir()\n",
    "    with open(annotation_path, 'r') as f:\n",
    "        for line in f:\n",
    "            annotation = line.strip().split(';')\n",
    "            image_name = annotation[0]\n",
    "            filename, extension = os.path.splitext(os.path.basename(image_name))\n",
    "            file = folder + '/' + filename + '.txt'\n",
    "            x_min = int(annotation[1])\n",
    "            y_min = int(annotation[2])\n",
    "            x_max = int(annotation[3])\n",
    "            y_max = int(annotation[4])\n",
    "            class_id = int(annotation[5])\n",
    "            # calculate the normalized coordinates of the center and of the bounding box dimensions\n",
    "            x_center = (x_min + x_max) / 2 / image_width\n",
    "            y_center = (y_min + y_max) / 2 / image_height\n",
    "            width = (x_max - x_min) / image_width\n",
    "            height = (y_max - y_min) / image_height\n",
    "            # yolo format\n",
    "            yolo_annotation = f\"{class_id} {x_center:.6f} {y_center:.6f} {width:.6f} {height:.6f}\"\n",
    "            with open(file, 'a') as file:\n",
    "                file.write(yolo_annotation + \"\\n\")\n",
    "\n",
    "def convert_ppm_to_jpg(input_folder, output_folder):\n",
    "    # create destination folder if it does not exist already\n",
    "    if not os.path.exists(output_folder):\n",
    "        os.makedirs(output_folder)\n",
    "    # scan all files in the input forlder\n",
    "    for filename in os.listdir(input_folder):\n",
    "        if filename.lower().endswith(\".ppm\"):\n",
    "            input_file_path = os.path.join(input_folder, filename)\n",
    "            output_file_path = os.path.join(output_folder, os.path.splitext(filename)[0] + \".jpg\")\n",
    "            try:\n",
    "                # open ppm image\n",
    "                with Image.open(input_file_path) as img:\n",
    "                    # save the image in JPG format to the destination folder\n",
    "                    img.save(output_file_path, 'JPEG')\n",
    "                print(f\"Conversione completata: {input_file_path} -> {output_file_path}\")\n",
    "            except Exception as e:\n",
    "                print(f\"Si è verificato un errore durante la conversione: {str(e)}\")\n",
    "                "
   ]
  },
  {
   "cell_type": "code",
   "execution_count": 8,
   "id": "867fc968",
   "metadata": {
    "ExecuteTime": {
     "end_time": "2023-10-27T12:46:31.709941700Z",
     "start_time": "2023-10-27T12:46:29.224191700Z"
    }
   },
   "outputs": [],
   "source": [
    "convert_to_yolo_format(SOURCE_PATH, DESTINATION_PATH, 1360, 800)\n"
   ]
  },
  {
   "cell_type": "code",
   "execution_count": null,
   "id": "c6257a76",
   "metadata": {},
   "outputs": [],
   "source": [
    "convert_ppm_to_jpg(INPUT_FOLDER, OUTPUT_FOLDER)\n"
   ]
  }
 ],
 "metadata": {
  "kernelspec": {
   "display_name": "Python 3 (ipykernel)",
   "language": "python",
   "name": "python3"
  },
  "language_info": {
   "codemirror_mode": {
    "name": "ipython",
    "version": 3
   },
   "file_extension": ".py",
   "mimetype": "text/x-python",
   "name": "python",
   "nbconvert_exporter": "python",
   "pygments_lexer": "ipython3",
   "version": "3.9.12"
  }
 },
 "nbformat": 4,
 "nbformat_minor": 5
}
