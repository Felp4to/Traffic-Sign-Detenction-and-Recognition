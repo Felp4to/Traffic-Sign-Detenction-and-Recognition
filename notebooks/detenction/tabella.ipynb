{
 "cells": [
  {
   "cell_type": "code",
   "execution_count": 2,
   "id": "initial_id",
   "metadata": {
    "collapsed": true,
    "ExecuteTime": {
     "end_time": "2023-11-08T16:51:26.738258700Z",
     "start_time": "2023-11-08T16:51:24.692257300Z"
    }
   },
   "outputs": [],
   "source": [
    "import pandas as pd"
   ]
  },
  {
   "cell_type": "code",
   "execution_count": 4,
   "outputs": [
    {
     "data": {
      "text/plain": "   from  n  params                                module            arguments\n0    -1  1     464      ultralytics.nn.modules.conv.Conv        [3, 16, 3, 2]\n1    -1  1    4672      ultralytics.nn.modules.conv.Conv       [16, 32, 3, 2]\n2    -1  1    7360      ultralytics.nn.modules.block.C2f    [32, 32, 1, True]\n3    -1  1   18560      ultralytics.nn.modules.conv.Conv       [32, 64, 3, 2]\n4    -1  2   49664      ultralytics.nn.modules.block.C2f    [64, 64, 2, True]\n5    -1  1   73984      ultralytics.nn.modules.conv.Conv      [64, 128, 3, 2]\n6    -1  2  197632      ultralytics.nn.modules.block.C2f  [128, 128, 2, True]\n7    -1  1  295424      ultralytics.nn.modules.conv.Conv     [128, 256, 3, 2]\n8    -1  1  460288      ultralytics.nn.modules.block.C2f  [256, 256, 1, True]\n9    -1  1  385323  ultralytics.nn.modules.head.Classify            [256, 43]",
      "text/html": "<div>\n<style scoped>\n    .dataframe tbody tr th:only-of-type {\n        vertical-align: middle;\n    }\n\n    .dataframe tbody tr th {\n        vertical-align: top;\n    }\n\n    .dataframe thead th {\n        text-align: right;\n    }\n</style>\n<table border=\"1\" class=\"dataframe\">\n  <thead>\n    <tr style=\"text-align: right;\">\n      <th></th>\n      <th>from</th>\n      <th>n</th>\n      <th>params</th>\n      <th>module</th>\n      <th>arguments</th>\n    </tr>\n  </thead>\n  <tbody>\n    <tr>\n      <th>0</th>\n      <td>-1</td>\n      <td>1</td>\n      <td>464</td>\n      <td>ultralytics.nn.modules.conv.Conv</td>\n      <td>[3, 16, 3, 2]</td>\n    </tr>\n    <tr>\n      <th>1</th>\n      <td>-1</td>\n      <td>1</td>\n      <td>4672</td>\n      <td>ultralytics.nn.modules.conv.Conv</td>\n      <td>[16, 32, 3, 2]</td>\n    </tr>\n    <tr>\n      <th>2</th>\n      <td>-1</td>\n      <td>1</td>\n      <td>7360</td>\n      <td>ultralytics.nn.modules.block.C2f</td>\n      <td>[32, 32, 1, True]</td>\n    </tr>\n    <tr>\n      <th>3</th>\n      <td>-1</td>\n      <td>1</td>\n      <td>18560</td>\n      <td>ultralytics.nn.modules.conv.Conv</td>\n      <td>[32, 64, 3, 2]</td>\n    </tr>\n    <tr>\n      <th>4</th>\n      <td>-1</td>\n      <td>2</td>\n      <td>49664</td>\n      <td>ultralytics.nn.modules.block.C2f</td>\n      <td>[64, 64, 2, True]</td>\n    </tr>\n    <tr>\n      <th>5</th>\n      <td>-1</td>\n      <td>1</td>\n      <td>73984</td>\n      <td>ultralytics.nn.modules.conv.Conv</td>\n      <td>[64, 128, 3, 2]</td>\n    </tr>\n    <tr>\n      <th>6</th>\n      <td>-1</td>\n      <td>2</td>\n      <td>197632</td>\n      <td>ultralytics.nn.modules.block.C2f</td>\n      <td>[128, 128, 2, True]</td>\n    </tr>\n    <tr>\n      <th>7</th>\n      <td>-1</td>\n      <td>1</td>\n      <td>295424</td>\n      <td>ultralytics.nn.modules.conv.Conv</td>\n      <td>[128, 256, 3, 2]</td>\n    </tr>\n    <tr>\n      <th>8</th>\n      <td>-1</td>\n      <td>1</td>\n      <td>460288</td>\n      <td>ultralytics.nn.modules.block.C2f</td>\n      <td>[256, 256, 1, True]</td>\n    </tr>\n    <tr>\n      <th>9</th>\n      <td>-1</td>\n      <td>1</td>\n      <td>385323</td>\n      <td>ultralytics.nn.modules.head.Classify</td>\n      <td>[256, 43]</td>\n    </tr>\n  </tbody>\n</table>\n</div>"
     },
     "metadata": {},
     "output_type": "display_data"
    }
   ],
   "source": [
    "\n",
    "\n",
    "data = {\n",
    "    'from': [-1, -1, -1, -1, -1, -1, -1, -1, -1, -1],\n",
    "    'n': [1, 1, 1, 1, 2, 1, 2, 1, 1, 1],\n",
    "    'params': [464, 4672, 7360, 18560, 49664, 73984, 197632, 295424, 460288, 385323],\n",
    "    'module': [\n",
    "        'ultralytics.nn.modules.conv.Conv',\n",
    "        'ultralytics.nn.modules.conv.Conv',\n",
    "        'ultralytics.nn.modules.block.C2f',\n",
    "        'ultralytics.nn.modules.conv.Conv',\n",
    "        'ultralytics.nn.modules.block.C2f',\n",
    "        'ultralytics.nn.modules.conv.Conv',\n",
    "        'ultralytics.nn.modules.block.C2f',\n",
    "        'ultralytics.nn.modules.conv.Conv',\n",
    "        'ultralytics.nn.modules.block.C2f',\n",
    "        'ultralytics.nn.modules.head.Classify'\n",
    "    ],\n",
    "    'arguments': [\n",
    "        '[3, 16, 3, 2]',\n",
    "        '[16, 32, 3, 2]',\n",
    "        '[32, 32, 1, True]',\n",
    "        '[32, 64, 3, 2]',\n",
    "        '[64, 64, 2, True]',\n",
    "        '[64, 128, 3, 2]',\n",
    "        '[128, 128, 2, True]',\n",
    "        '[128, 256, 3, 2]',\n",
    "        '[256, 256, 1, True]',\n",
    "        '[256, 43]'\n",
    "    ]\n",
    "}\n",
    "\n",
    "df = pd.DataFrame(data)\n",
    "display(df)"
   ],
   "metadata": {
    "collapsed": false,
    "ExecuteTime": {
     "end_time": "2023-11-08T16:51:39.737150600Z",
     "start_time": "2023-11-08T16:51:39.661127800Z"
    }
   },
   "id": "783867f0270bae25"
  },
  {
   "cell_type": "code",
   "execution_count": null,
   "outputs": [],
   "source": [],
   "metadata": {
    "collapsed": false
   },
   "id": "6687579f6a2ca982"
  }
 ],
 "metadata": {
  "kernelspec": {
   "display_name": "Python 3",
   "language": "python",
   "name": "python3"
  },
  "language_info": {
   "codemirror_mode": {
    "name": "ipython",
    "version": 2
   },
   "file_extension": ".py",
   "mimetype": "text/x-python",
   "name": "python",
   "nbconvert_exporter": "python",
   "pygments_lexer": "ipython2",
   "version": "2.7.6"
  }
 },
 "nbformat": 4,
 "nbformat_minor": 5
}
