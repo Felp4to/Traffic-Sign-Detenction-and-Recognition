{
 "cells": [
  {
   "cell_type": "code",
   "execution_count": 1,
   "outputs": [],
   "source": [
    "import dataset\n",
    "import dir"
   ],
   "metadata": {
    "collapsed": false,
    "ExecuteTime": {
     "end_time": "2023-11-25T11:56:52.223858300Z",
     "start_time": "2023-11-25T11:56:49.960049400Z"
    }
   },
   "id": "fece8376c0a4828a"
  },
  {
   "cell_type": "code",
   "execution_count": 2,
   "outputs": [
    {
     "name": "stdout",
     "output_type": "stream",
     "text": [
      "min_element_training:  1\n",
      "min_element_test:  1\n",
      "min_element_validation:  1\n",
      "percentage_training: 0.7\n",
      "percentage_test: 0.15\n",
      "percentage_validation: 0.15\n",
      "classes: ['speed limit 20 (prohibitory)', 'speed limit 30 (prohibitory)', 'speed limit 50 (prohibitory)', 'speed limit 60 (prohibitory)', 'speed limit 70 (prohibitory)', 'speed limit 80 (prohibitory)', 'restriction ends 80 (other)', 'speed limit 100 (prohibitory)', 'speed limit 120 (prohibitory)', 'no overtaking (prohibitory)', 'no overtaking (trucks) (prohibitory)', 'priority at next intersection (danger)', 'priority road (other)', 'give way (other)', 'stop (other)', 'no traffic both ways (prohibitory)', 'no trucks (prohibitory)', 'no entry (other)', 'danger (danger)', 'bend left (danger)', 'bend right (danger)', 'bend (danger)', 'uneven road (danger)', 'slippery road (danger)', 'road narrows (danger)', 'construction (danger)', 'traffic signal (danger)', 'pedestrian crossing (danger)', 'school crossing (danger)', 'cycles crossing (danger)', 'snow (danger)', 'animals (danger)', 'restriction ends (other)', 'go right (mandatory)', 'go left (mandatory)', 'go straight (mandatory)', 'go right or straight (mandatory)', 'go left or straight (mandatory)', 'keep right (mandatory)', 'keep left (mandatory)', 'roundabout (mandatory)', 'restriction ends (overtaking) (other)', 'restriction ends (overtaking (trucks)) (other)', 'prohibitory', 'danger', 'mandatory']\n",
      "num_classes: 46\n",
      "dict_classes: {0: 'speed limit 20 (prohibitory)', 1: 'speed limit 30 (prohibitory)', 2: 'speed limit 50 (prohibitory)', 3: 'speed limit 60 (prohibitory)', 4: 'speed limit 70 (prohibitory)', 5: 'speed limit 80 (prohibitory)', 6: 'restriction ends 80 (other)', 7: 'speed limit 100 (prohibitory)', 8: 'speed limit 120 (prohibitory)', 9: 'no overtaking (prohibitory)', 10: 'no overtaking (trucks) (prohibitory)', 11: 'priority at next intersection (danger)', 12: 'priority road (other)', 13: 'give way (other)', 14: 'stop (other)', 15: 'no traffic both ways (prohibitory)', 16: 'no trucks (prohibitory)', 17: 'no entry (other)', 18: 'danger (danger)', 19: 'bend left (danger)', 20: 'bend right (danger)', 21: 'bend (danger)', 22: 'uneven road (danger)', 23: 'slippery road (danger)', 24: 'road narrows (danger)', 25: 'construction (danger)', 26: 'traffic signal (danger)', 27: 'pedestrian crossing (danger)', 28: 'school crossing (danger)', 29: 'cycles crossing (danger)', 30: 'snow (danger)', 31: 'animals (danger)', 32: 'restriction ends (other)', 33: 'go right (mandatory)', 34: 'go left (mandatory)', 35: 'go straight (mandatory)', 36: 'go right or straight (mandatory)', 37: 'go left or straight (mandatory)', 38: 'keep right (mandatory)', 39: 'keep left (mandatory)', 40: 'roundabout (mandatory)', 41: 'restriction ends (overtaking) (other)', 42: 'restriction ends (overtaking (trucks)) (other)', 43: 'prohibitory', 44: 'danger', 45: 'mandatory'}\n",
      "mapping_c_sc: {0: 0, 1: 1, 2: 2, 3: 3, 4: 4, 5: 5, 6: 6, 7: 7, 8: 8, 9: 9, 10: 10, 11: 11, 12: 12, 13: 13, 14: 14, 15: 15, 16: 16, 17: 17, 18: 18, 19: 19, 20: 20, 21: 21, 22: 22, 23: 23, 24: 24, 25: 25, 26: 26, 27: 27, 28: 28, 29: 29, 30: 30, 31: 31, 32: 32, 33: 33, 34: 34, 35: 35, 36: 36, 37: 37, 38: 38, 39: 39, 40: 40, 41: 41, 42: 42, 43: 43, 44: 44, 45: 45}\n",
      "dict_distribution: {0: 0, 1: 0, 2: 0, 3: 0, 4: 0, 5: 0, 6: 0, 7: 0, 8: 0, 9: 0, 10: 0, 11: 0, 12: 0, 13: 0, 14: 0, 15: 0, 16: 0, 17: 0, 18: 0, 19: 0, 20: 0, 21: 0, 22: 0, 23: 0, 24: 0, 25: 0, 26: 0, 27: 0, 28: 0, 29: 0, 30: 0, 31: 0, 32: 0, 33: 0, 34: 0, 35: 0, 36: 0, 37: 0, 38: 0, 39: 0, 40: 0, 41: 0, 42: 0, 43: 0, 44: 0, 45: 0}\n",
      "source_folder:  C:/Users/Paolo/Desktop/Datasets/Dataset 7000 immagini con distrattori _ 46 classi\n",
      "destination_folder:  C:/Users/Paolo/Desktop/Prova2/Traffic Sign Detenction\n",
      "source_folder_images:  C:/Users/Paolo/Desktop/Datasets/Dataset 7000 immagini con distrattori _ 46 classi/images\n",
      "source_folder_labels:  C:/Users/Paolo/Desktop/Datasets/Dataset 7000 immagini con distrattori _ 46 classi/labels\n",
      "destination_folder_images:  C:/Users/Paolo/Desktop/Prova2/Traffic Sign Detenction/images\n",
      "destination_folder_labels:  C:/Users/Paolo/Desktop/Prova2/Traffic Sign Detenction/labels\n",
      "destination_folder_sampling:  C:/Users/Paolo/Desktop/Prova2/Traffic Sign Detenction/stratified_sampling/\n"
     ]
    }
   ],
   "source": [
    "# initialize variables, dictionary and pathes\n",
    "dataset.read_config_file()\n",
    "dir.read_config_file()"
   ],
   "metadata": {
    "collapsed": false,
    "ExecuteTime": {
     "end_time": "2023-11-25T11:56:52.276920700Z",
     "start_time": "2023-11-25T11:56:52.227756300Z"
    }
   },
   "id": "9cb93aad5b898eb4"
  },
  {
   "cell_type": "code",
   "execution_count": 3,
   "outputs": [
    {
     "name": "stderr",
     "output_type": "stream",
     "text": [
      "Mapping: 100%|██████████| 7744/7744 [00:50<00:00, 152.74it/s]\n",
      "Stratified sampling: 100%|██████████| 46/46 [00:00<00:00, 782.03it/s]\n",
      "Dataset generation: 100%|██████████| 46/46 [01:42<00:00,  2.23s/it]\n"
     ]
    }
   ],
   "source": [
    "dataset.generate_dataset_for_yolo()"
   ],
   "metadata": {
    "collapsed": false,
    "ExecuteTime": {
     "end_time": "2023-11-25T11:59:30.023768400Z",
     "start_time": "2023-11-25T11:56:52.274240Z"
    }
   },
   "id": "67c4c0503f0f3d93"
  },
  {
   "cell_type": "code",
   "execution_count": 4,
   "outputs": [
    {
     "name": "stdout",
     "output_type": "stream",
     "text": [
      "Number of the istances 5496\n",
      "{0: 8, 1: 188, 2: 157, 3: 101, 4: 144, 5: 53, 6: 19, 7: 56, 8: 57, 9: 94, 10: 80, 11: 239, 12: 354, 13: 470, 14: 305, 15: 77, 16: 116, 17: 117, 18: 113, 19: 47, 20: 58, 21: 99, 22: 107, 23: 72, 24: 124, 25: 47, 26: 70, 27: 50, 28: 103, 29: 5, 30: 55, 31: 65, 32: 9, 33: 17, 34: 14, 35: 67, 36: 23, 37: 17, 38: 312, 39: 53, 40: 97, 41: 8, 42: 13, 43: 525, 44: 576, 45: 115}\n"
     ]
    },
    {
     "data": {
      "text/plain": "<Figure size 640x480 with 1 Axes>",
      "image/png": "[encoded data removed]"
     },
     "metadata": {},
     "output_type": "display_data"
    }
   ],
   "source": [
    "dataset.distribution_classes()"
   ],
   "metadata": {
    "collapsed": false,
    "ExecuteTime": {
     "end_time": "2023-11-25T11:59:33.687085Z",
     "start_time": "2023-11-25T11:59:30.017294Z"
    }
   },
   "id": "a81436791717cbb3"
  },
  {
   "cell_type": "code",
   "execution_count": null,
   "outputs": [],
   "source": [],
   "metadata": {
    "collapsed": false
   },
   "id": "a74b09b8d289840e"
  }
 ],
 "metadata": {
  "kernelspec": {
   "display_name": "Python 3",
   "language": "python",
   "name": "python3"
  },
  "language_info": {
   "codemirror_mode": {
    "name": "ipython",
    "version": 2
   },
   "file_extension": ".py",
   "mimetype": "text/x-python",
   "name": "python",
   "nbconvert_exporter": "python",
   "pygments_lexer": "ipython2",
   "version": "2.7.6"
  }
 },
 "nbformat": 4,
 "nbformat_minor": 5
}
